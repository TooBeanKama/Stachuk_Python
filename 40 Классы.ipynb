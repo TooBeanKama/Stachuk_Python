{
 "cells": [
  {
   "cell_type": "markdown",
   "id": "fde2f794-42d4-4a3d-af2f-4a732ff2f635",
   "metadata": {},
   "source": [
    "# 40. Классы\n",
    "+ 40.01 Объекты и классы\n",
    "+ 40.02 Практика - Создание экземпляров класса\n",
    "+ 40.03 Магический метод классов __init__\n",
    "+ 40.04 Практика - Объекты с собственными атрибутами\n",
    "+ 40.05 ЗАДАЧА - Классы и экземпляры\n",
    "+ 40.07 Методы экземпляров и классов\n",
    "+ 40.08 Статические методы классов\n",
    "+ 40.09 Атрибуты класса"
   ]
  },
  {
   "cell_type": "markdown",
   "id": "99d7d1f6-a953-44c7-aab0-c9eaf3e6d5a6",
   "metadata": {},
   "source": [
    "## 40.01 Объекты и классы"
   ]
  },
  {
   "cell_type": "code",
   "execution_count": 1,
   "id": "bce60e71-78b4-4df8-898f-2b9af6b9cf95",
   "metadata": {},
   "outputs": [],
   "source": [
    "class Car:\n",
    "    def move(self):\n",
    "        print(\"Car is moving\")\n",
    "\n",
    "    def stop(self):\n",
    "        print(\"Car stopped\")"
   ]
  },
  {
   "cell_type": "code",
   "execution_count": 2,
   "id": "1a5955f8-760c-418b-9ab8-cb6f1e25fbf0",
   "metadata": {},
   "outputs": [],
   "source": [
    "my_car = Car()"
   ]
  },
  {
   "cell_type": "code",
   "execution_count": 3,
   "id": "de7c2b7c-b41d-4690-91da-102b09df3865",
   "metadata": {},
   "outputs": [
    {
     "name": "stdout",
     "output_type": "stream",
     "text": [
      "True\n"
     ]
    }
   ],
   "source": [
    "print(isinstance(my_car, Car))"
   ]
  },
  {
   "cell_type": "code",
   "execution_count": 4,
   "id": "9a443b40-da09-444a-8a47-272a6e3eafdf",
   "metadata": {},
   "outputs": [
    {
     "name": "stdout",
     "output_type": "stream",
     "text": [
      "<class '__main__.Car'>\n"
     ]
    }
   ],
   "source": [
    "print(type(my_car))"
   ]
  },
  {
   "cell_type": "code",
   "execution_count": 5,
   "id": "c688c49b-28eb-4c1a-b018-6054769f3ade",
   "metadata": {},
   "outputs": [
    {
     "name": "stdout",
     "output_type": "stream",
     "text": [
      "True\n"
     ]
    }
   ],
   "source": [
    "print(isinstance(my_car, object))"
   ]
  },
  {
   "cell_type": "code",
   "execution_count": 6,
   "id": "9c579244-8e2c-4783-8ebe-deef6aa78591",
   "metadata": {},
   "outputs": [
    {
     "name": "stdout",
     "output_type": "stream",
     "text": [
      "Car is moving\n",
      "Car stopped\n"
     ]
    }
   ],
   "source": [
    "my_car = Car()\n",
    "my_car.move()\n",
    "my_car.stop()"
   ]
  },
  {
   "cell_type": "markdown",
   "id": "6ecf0f58-a06f-444b-992c-9dca8a6a5ca8",
   "metadata": {},
   "source": [
    "## 40.02 Практика - Создание экземпляров класса"
   ]
  },
  {
   "cell_type": "code",
   "execution_count": 1,
   "id": "d318ef6e-c5b6-49f7-85a8-72dc4617731d",
   "metadata": {},
   "outputs": [
    {
     "name": "stdout",
     "output_type": "stream",
     "text": [
      "<__main__.Car object at 0x0000026A888DAA20>\n",
      "<class '__main__.Car'>\n",
      "True\n",
      "True\n"
     ]
    }
   ],
   "source": [
    "class Car:\n",
    "    def move(self):\n",
    "        print(\"Car is moving\")\n",
    "\n",
    "    def stop(self):\n",
    "        print(\"Car stopped\")\n",
    "\n",
    "my_car = Car()\n",
    "\n",
    "print(my_car)\n",
    "print(type(my_car))\n",
    "print(isinstance(my_car, Car))\n",
    "print(isinstance(my_car, object))"
   ]
  },
  {
   "cell_type": "code",
   "execution_count": 2,
   "id": "9645323f-be2c-489d-b923-7eb8d830c168",
   "metadata": {},
   "outputs": [
    {
     "name": "stdout",
     "output_type": "stream",
     "text": [
      "['__class__', '__delattr__', '__dict__', '__dir__', '__doc__', '__eq__', '__format__', '__ge__', '__getattribute__', '__getstate__', '__gt__', '__hash__', '__init__', '__init_subclass__', '__le__', '__lt__', '__module__', '__ne__', '__new__', '__reduce__', '__reduce_ex__', '__repr__', '__setattr__', '__sizeof__', '__str__', '__subclasshook__', '__weakref__', 'move', 'stop']\n"
     ]
    }
   ],
   "source": [
    "my_car = Car()\n",
    "print(dir(my_car))"
   ]
  },
  {
   "cell_type": "code",
   "execution_count": 3,
   "id": "24082c07-cc53-4f96-a38f-dab400f54b47",
   "metadata": {},
   "outputs": [
    {
     "name": "stdout",
     "output_type": "stream",
     "text": [
      "{}\n"
     ]
    }
   ],
   "source": [
    "my_car = Car()\n",
    "print(my_car.__dict__)"
   ]
  },
  {
   "cell_type": "code",
   "execution_count": 4,
   "id": "a0b950e4-79a4-4d8e-ac28-719adac231ac",
   "metadata": {},
   "outputs": [
    {
     "name": "stdout",
     "output_type": "stream",
     "text": [
      "{'move': 10}\n"
     ]
    }
   ],
   "source": [
    "my_car = Car()\n",
    "my_car.move = 10\n",
    "print(my_car.__dict__)"
   ]
  },
  {
   "cell_type": "code",
   "execution_count": 6,
   "id": "cc706fba-e71d-46f9-9dd8-910f65ae689e",
   "metadata": {},
   "outputs": [
    {
     "name": "stdout",
     "output_type": "stream",
     "text": [
      "False\n",
      "2656581116960 2656583514400\n"
     ]
    }
   ],
   "source": [
    "my_car = Car()\n",
    "my_second_car = Car()\n",
    "print(my_car == my_second_car)\n",
    "print(id(my_car), id(my_second_car))"
   ]
  },
  {
   "cell_type": "code",
   "execution_count": 7,
   "id": "6dcd3020-594c-432a-a423-2551e6782989",
   "metadata": {},
   "outputs": [
    {
     "name": "stdout",
     "output_type": "stream",
     "text": [
      "Car is moving\n",
      "Car is moving\n"
     ]
    }
   ],
   "source": [
    "my_car = Car()\n",
    "my_car.move()\n",
    "Car.move(my_car)"
   ]
  },
  {
   "cell_type": "markdown",
   "id": "62d4f617-ed21-40f4-a9f3-e06a381ebe6b",
   "metadata": {},
   "source": [
    "## 40.03 Магический метод классов init"
   ]
  },
  {
   "cell_type": "code",
   "execution_count": 8,
   "id": "53d8dfe2-090e-4a61-9886-358a1d0bad58",
   "metadata": {},
   "outputs": [],
   "source": [
    "class Comment:\n",
    "    def __init__(self, text):\n",
    "        self.text = text\n",
    "        self.votes_qty = 0\n",
    "\n",
    "    def upvote(self):\n",
    "        self.votes_qty  += 1"
   ]
  },
  {
   "cell_type": "code",
   "execution_count": 10,
   "id": "00840463-a07b-4754-ad48-b66f372b78c0",
   "metadata": {},
   "outputs": [
    {
     "name": "stdout",
     "output_type": "stream",
     "text": [
      "First comment\n",
      "0\n"
     ]
    }
   ],
   "source": [
    "first_comment = Comment(\"First comment\")\n",
    "print(first_comment.text)\n",
    "print(first_comment.votes_qty)"
   ]
  },
  {
   "cell_type": "code",
   "execution_count": 11,
   "id": "e1162eef-d6dd-47ae-b70f-6fde0fbd4508",
   "metadata": {},
   "outputs": [
    {
     "name": "stdout",
     "output_type": "stream",
     "text": [
      "{'text': 'First comment', 'votes_qty': 0}\n"
     ]
    }
   ],
   "source": [
    "first_comment = Comment(\"First comment\")\n",
    "print(first_comment.__dict__)"
   ]
  },
  {
   "cell_type": "code",
   "execution_count": 12,
   "id": "f34708e6-a9c9-4080-95f7-ebf2db9ec6b8",
   "metadata": {},
   "outputs": [
    {
     "name": "stdout",
     "output_type": "stream",
     "text": [
      "['__annotations__', '__class__', '__delattr__', '__dict__', '__dir__', '__doc__', '__eq__', '__format__', '__ge__', '__getattribute__', '__getstate__', '__gt__', '__hash__', '__init__', '__init_subclass__', '__le__', '__lt__', '__module__', '__ne__', '__new__', '__reduce__', '__reduce_ex__', '__repr__', '__setattr__', '__sizeof__', '__str__', '__subclasshook__', '__weakref__', 'text', 'upvote', 'votes_qty']\n"
     ]
    }
   ],
   "source": [
    "first_comment = Comment(\"First comment\")\n",
    "print(dir(first_comment))"
   ]
  },
  {
   "cell_type": "markdown",
   "id": "6dd39227-515e-46a3-a95f-fac42c438d86",
   "metadata": {},
   "source": [
    "## 40.04 Практика - Объекты с собственными атрибутами"
   ]
  },
  {
   "cell_type": "code",
   "execution_count": 13,
   "id": "d5e5895a-12e7-4ae1-8cf6-d2d584b9978e",
   "metadata": {},
   "outputs": [
    {
     "name": "stdout",
     "output_type": "stream",
     "text": [
      "<__main__.Comment object at 0x0000026A89101070>\n",
      "<class '__main__.Comment'>\n",
      "<built-in method __dir__ of Comment object at 0x0000026A89101070>\n",
      "['__class__', '__delattr__', '__dict__', '__dir__', '__doc__', '__eq__', '__format__', '__ge__', '__getattribute__', '__getstate__', '__gt__', '__hash__', '__init__', '__init_subclass__', '__le__', '__lt__', '__module__', '__ne__', '__new__', '__reduce__', '__reduce_ex__', '__repr__', '__setattr__', '__sizeof__', '__str__', '__subclasshook__', '__weakref__', 'text', 'upvote', 'votes_qty']\n"
     ]
    }
   ],
   "source": [
    "class Comment:\n",
    "    def __init__(self, text):\n",
    "        self.text = text\n",
    "        self.votes_qty = 0\n",
    "\n",
    "    def upvote(self):\n",
    "        self.votes_qty  += 1\n",
    "\n",
    "my_comment = Comment(\"My comment\")\n",
    "print(my_comment)\n",
    "print(type(my_comment))\n",
    "print(my_comment.__dir__)\n",
    "print(dir(my_comment))"
   ]
  },
  {
   "cell_type": "code",
   "execution_count": 14,
   "id": "2477d02c-19a7-4a74-8335-2c02aff87e7c",
   "metadata": {},
   "outputs": [
    {
     "name": "stdout",
     "output_type": "stream",
     "text": [
      "My comment\n",
      "0\n"
     ]
    }
   ],
   "source": [
    "class Comment:\n",
    "    def __init__(self, text):\n",
    "        self.text = text\n",
    "        self.votes_qty = 0\n",
    "\n",
    "    def upvote(self):\n",
    "        self.votes_qty  += 1\n",
    "\n",
    "my_comment = Comment(\"My comment\")\n",
    "print(my_comment.text)\n",
    "print(my_comment.votes_qty)"
   ]
  },
  {
   "cell_type": "code",
   "execution_count": 15,
   "id": "0457e537-3c67-40b7-bfe9-f28ad8eaaeeb",
   "metadata": {},
   "outputs": [
    {
     "name": "stdout",
     "output_type": "stream",
     "text": [
      "1\n"
     ]
    }
   ],
   "source": [
    "my_comment.upvote()\n",
    "print(my_comment.votes_qty)"
   ]
  },
  {
   "cell_type": "code",
   "execution_count": 16,
   "id": "acb42825-7ae8-42f9-b911-a2158fcd2e08",
   "metadata": {},
   "outputs": [
    {
     "name": "stdout",
     "output_type": "stream",
     "text": [
      "My comment\n",
      "0\n",
      "5\n"
     ]
    }
   ],
   "source": [
    "class Comment:\n",
    "    def __init__(self, text):\n",
    "        self.text = text\n",
    "        self.votes_qty = 0\n",
    "\n",
    "    def upvote(self, qty=0):\n",
    "        self.votes_qty  += qty\n",
    "\n",
    "my_comment = Comment(\"My comment\")\n",
    "print(my_comment.text)\n",
    "print(my_comment.votes_qty)\n",
    "\n",
    "my_comment.upvote(5)\n",
    "print(my_comment.votes_qty)"
   ]
  },
  {
   "cell_type": "code",
   "execution_count": 17,
   "id": "0728c444-8f06-43b5-ab52-5f351671f84a",
   "metadata": {},
   "outputs": [
    {
     "name": "stdout",
     "output_type": "stream",
     "text": [
      "List of atributes: {'text': 'My comment', 'votes_qty': 5}\n",
      "List of atributes: {'text': 'My comment', 'votes_qty': 5, 'upvote': 10}\n"
     ]
    }
   ],
   "source": [
    "print(f\"List of atributes: {my_comment.__dict__}\")\n",
    "my_comment.upvote = 10\n",
    "\n",
    "print(f\"List of atributes: {my_comment.__dict__}\")"
   ]
  },
  {
   "cell_type": "code",
   "execution_count": 19,
   "id": "4c007dfb-0e4b-42d0-8336-442b3c81fbad",
   "metadata": {},
   "outputs": [
    {
     "name": "stdout",
     "output_type": "stream",
     "text": [
      "<bound method Comment.upvote of <__main__.Comment object at 0x0000026A89DEF2C0>>\n",
      "5\n",
      "10\n"
     ]
    },
    {
     "ename": "TypeError",
     "evalue": "'int' object is not callable",
     "output_type": "error",
     "traceback": [
      "\u001b[1;31m---------------------------------------------------------------------------\u001b[0m",
      "\u001b[1;31mTypeError\u001b[0m                                 Traceback (most recent call last)",
      "Cell \u001b[1;32mIn[19], line 9\u001b[0m\n\u001b[0;32m      7\u001b[0m my_comment\u001b[38;5;241m.\u001b[39mupvote \u001b[38;5;241m=\u001b[39m \u001b[38;5;241m10\u001b[39m\n\u001b[0;32m      8\u001b[0m \u001b[38;5;28mprint\u001b[39m(my_comment\u001b[38;5;241m.\u001b[39mupvote)\n\u001b[1;32m----> 9\u001b[0m my_comment\u001b[38;5;241m.\u001b[39mupvote()\n",
      "\u001b[1;31mTypeError\u001b[0m: 'int' object is not callable"
     ]
    }
   ],
   "source": [
    "my_comment = Comment(\"My comment\")\n",
    "my_comment.upvote(5)\n",
    "\n",
    "print(my_comment.upvote)\n",
    "print(my_comment.votes_qty)\n",
    "\n",
    "my_comment.upvote = 10\n",
    "print(my_comment.upvote)\n",
    "my_comment.upvote()"
   ]
  },
  {
   "cell_type": "code",
   "execution_count": 20,
   "id": "ae88fef8-8d65-4d24-b9d4-05281bb84736",
   "metadata": {},
   "outputs": [
    {
     "name": "stdout",
     "output_type": "stream",
     "text": [
      "12\n"
     ]
    }
   ],
   "source": [
    "class Comment:\n",
    "    def __init__(self, text, initial_votes_qty=0):\n",
    "        self.text = text\n",
    "        self.votes_qty = initial_votes_qty\n",
    "\n",
    "    def upvote(self, qty=0):\n",
    "        self.votes_qty  += qty\n",
    "\n",
    "my_second_comment = Comment(\"Second comment\", 10)\n",
    "my_second_comment.upvote(2)\n",
    "print(my_second_comment.votes_qty)"
   ]
  },
  {
   "cell_type": "code",
   "execution_count": 23,
   "id": "1b8e6b0d-67aa-4d6e-8407-c956fa073b18",
   "metadata": {},
   "outputs": [
    {
     "name": "stdout",
     "output_type": "stream",
     "text": [
      "12\n",
      "0\n"
     ]
    }
   ],
   "source": [
    "class Comment:\n",
    "    def __init__(self, text, initial_votes_qty=0):\n",
    "        self.text = text\n",
    "        self.votes_qty = initial_votes_qty\n",
    "\n",
    "    def upvote(self, qty=0):\n",
    "        self.votes_qty  += qty\n",
    "\n",
    "    def reset_votes_qty(self):\n",
    "        self.votes_qty = 0\n",
    "        \n",
    "my_second_comment = Comment(\"Second comment\", 10)\n",
    "my_second_comment.upvote(2)\n",
    "print(my_second_comment.votes_qty)\n",
    "my_second_comment.reset_votes_qty()\n",
    "print(my_second_comment.votes_qty)"
   ]
  },
  {
   "cell_type": "markdown",
   "id": "115520b2-2a09-4f3a-b1d6-cbf465b57a9a",
   "metadata": {},
   "source": [
    "## 40.05 ЗАДАЧА - Классы и экземпляры"
   ]
  },
  {
   "cell_type": "code",
   "execution_count": 26,
   "id": "23f823dc-7943-415f-b244-15fc7644027c",
   "metadata": {},
   "outputs": [
    {
     "name": "stdout",
     "output_type": "stream",
     "text": [
      "600dpi\n",
      "summer\n",
      "jpg\n"
     ]
    }
   ],
   "source": [
    "class Image:\n",
    "    def __init__(self, resolution, title, extension):\n",
    "        self.resolution = resolution\n",
    "        self.title = title\n",
    "        self.extension = extension\n",
    "\n",
    "    def resize(self, res):\n",
    "        self.resolution = res\n",
    "\n",
    "foto = Image('600dpi', 'summer', 'jpg')\n",
    "print(foto.resolution)\n",
    "print(foto.title)\n",
    "print(foto.extension)"
   ]
  },
  {
   "cell_type": "code",
   "execution_count": 28,
   "id": "6817a988-226b-4b67-bca7-e8a98058eca7",
   "metadata": {},
   "outputs": [
    {
     "name": "stdout",
     "output_type": "stream",
     "text": [
      "summer\n"
     ]
    }
   ],
   "source": [
    "class Image:\n",
    "    def __init__(self, resolution, title, extension):\n",
    "        self.resolution = resolution\n",
    "        self.title = title\n",
    "        self.extension = extension\n",
    "\n",
    "    def resize(self, res):\n",
    "        self.resolution = res\n",
    "\n",
    "    def __str__(self):\n",
    "        return self.title\n",
    "\n",
    "foto = Image('600dpi', 'summer', 'jpg')\n",
    "print(foto)"
   ]
  },
  {
   "cell_type": "code",
   "execution_count": 29,
   "id": "12ca741a-d32a-413b-bc2a-6507a6b6b25e",
   "metadata": {},
   "outputs": [
    {
     "name": "stdout",
     "output_type": "stream",
     "text": [
      "summer.jpg\n"
     ]
    }
   ],
   "source": [
    "class Image:\n",
    "    def __init__(self, resolution, title, extension):\n",
    "        self.resolution = resolution\n",
    "        self.title = title\n",
    "        self.extension = extension\n",
    "\n",
    "    def resize(self, res):\n",
    "        self.resolution = res\n",
    "\n",
    "    def __str__(self):\n",
    "        return self.title + '.' + self.extension\n",
    "\n",
    "foto = Image('600dpi', 'summer', 'jpg')\n",
    "print(foto)"
   ]
  },
  {
   "cell_type": "code",
   "execution_count": 30,
   "id": "310d298c-33a7-4f4d-947b-319f3e9920e0",
   "metadata": {},
   "outputs": [
    {
     "name": "stdout",
     "output_type": "stream",
     "text": [
      "summer.jpg\n"
     ]
    }
   ],
   "source": [
    "class Image:\n",
    "    def __init__(self, resolution, title, extension):\n",
    "        self.resolution = resolution\n",
    "        self.title = title\n",
    "        self.extension = extension\n",
    "\n",
    "    def resize(self, res):\n",
    "        self.resolution = res\n",
    "\n",
    "    def __str__(self):\n",
    "        return f\"{self.title}.{self.extension}\"\n",
    "\n",
    "foto = Image('600dpi', 'summer', 'jpg')\n",
    "print(foto)"
   ]
  },
  {
   "cell_type": "markdown",
   "id": "c3a1b3c8-bd2d-40bf-8b0b-c70372e2410d",
   "metadata": {},
   "source": [
    "## 40.07 Методы экземпляров и классов"
   ]
  },
  {
   "cell_type": "code",
   "execution_count": 31,
   "id": "3d70d513-1a5b-419d-9748-500d7d48b5e0",
   "metadata": {},
   "outputs": [],
   "source": [
    "class Comment:\n",
    "    def __init__(self, text, initial_votes_qty=0):\n",
    "        self.text = text\n",
    "        self.votes_qty = initial_votes_qty\n",
    "\n",
    "    def upvote(self, qty=0):\n",
    "        self.votes_qty += qty\n",
    "\n",
    "    def reset_votes_qty(self):\n",
    "        self.votes_qty = 0\n",
    "\n",
    "my_second_comment = Comment(\"Second comment\", 10)"
   ]
  },
  {
   "cell_type": "code",
   "execution_count": 32,
   "id": "db18420a-d85e-472f-b6cc-f7dce934e58f",
   "metadata": {},
   "outputs": [
    {
     "name": "stdout",
     "output_type": "stream",
     "text": [
      "<bound method Comment.upvote of <__main__.Comment object at 0x0000026A88C34CE0>>\n"
     ]
    }
   ],
   "source": [
    "print(my_second_comment.upvote)"
   ]
  },
  {
   "cell_type": "code",
   "execution_count": 33,
   "id": "20bf86fb-a738-4eab-b856-932622f4f921",
   "metadata": {},
   "outputs": [
    {
     "name": "stdout",
     "output_type": "stream",
     "text": [
      "<function Comment.upvote at 0x0000026A89DCE200>\n"
     ]
    }
   ],
   "source": [
    "print(Comment.upvote)"
   ]
  },
  {
   "cell_type": "code",
   "execution_count": 35,
   "id": "6ea205d3-47d2-4a5f-8130-c451422cbcfd",
   "metadata": {},
   "outputs": [
    {
     "ename": "TypeError",
     "evalue": "Comment.upvote() missing 1 required positional argument: 'self'",
     "output_type": "error",
     "traceback": [
      "\u001b[1;31m---------------------------------------------------------------------------\u001b[0m",
      "\u001b[1;31mTypeError\u001b[0m                                 Traceback (most recent call last)",
      "Cell \u001b[1;32mIn[35], line 2\u001b[0m\n\u001b[0;32m      1\u001b[0m my_second_comment \u001b[38;5;241m=\u001b[39m Comment(\u001b[38;5;124m\"\u001b[39m\u001b[38;5;124mSecond comment\u001b[39m\u001b[38;5;124m\"\u001b[39m, \u001b[38;5;241m10\u001b[39m)\n\u001b[1;32m----> 2\u001b[0m Comment\u001b[38;5;241m.\u001b[39mupvote()\n",
      "\u001b[1;31mTypeError\u001b[0m: Comment.upvote() missing 1 required positional argument: 'self'"
     ]
    }
   ],
   "source": [
    "my_second_comment = Comment(\"Second comment\", 10)\n",
    "Comment.upvote()"
   ]
  },
  {
   "cell_type": "code",
   "execution_count": 36,
   "id": "a56a0d43-6dbc-42ed-9b3a-772a53be908b",
   "metadata": {},
   "outputs": [],
   "source": [
    "my_second_comment = Comment(\"Second comment\", 10)\n",
    "Comment.upvote(my_second_comment)"
   ]
  },
  {
   "cell_type": "code",
   "execution_count": 38,
   "id": "459c7585-4a73-4fdb-9e93-4168fbb7f517",
   "metadata": {},
   "outputs": [
    {
     "name": "stdout",
     "output_type": "stream",
     "text": [
      "<class '__main__.Comment'>\n",
      "<class 'object'>\n"
     ]
    }
   ],
   "source": [
    "print(Comment)\n",
    "print(object)"
   ]
  },
  {
   "cell_type": "code",
   "execution_count": 39,
   "id": "72cc4208-89ab-4b61-83ff-f2b510d9065a",
   "metadata": {},
   "outputs": [
    {
     "name": "stdout",
     "output_type": "stream",
     "text": [
      "True\n",
      "True\n"
     ]
    }
   ],
   "source": [
    "my_second_comment = Comment(\"Second comment\", 10)\n",
    "print(isinstance(my_second_comment, Comment))\n",
    "print(type(my_second_comment) == Comment)"
   ]
  },
  {
   "cell_type": "code",
   "execution_count": 40,
   "id": "346c7e4e-212e-4aa6-814e-a751a88ca337",
   "metadata": {},
   "outputs": [
    {
     "name": "stdout",
     "output_type": "stream",
     "text": [
      "True\n"
     ]
    }
   ],
   "source": [
    "print(isinstance(my_second_comment, object))"
   ]
  },
  {
   "cell_type": "markdown",
   "id": "527324f9-cecc-4eb4-950e-fed69e948c2e",
   "metadata": {},
   "source": [
    "## 40.08 Статические методы классов"
   ]
  },
  {
   "cell_type": "code",
   "execution_count": 43,
   "id": "2f79baee-06a3-4823-a135-4354f0ef089b",
   "metadata": {},
   "outputs": [
    {
     "name": "stdout",
     "output_type": "stream",
     "text": [
      "Thanks Excellent\n",
      "Great OK\n"
     ]
    }
   ],
   "source": [
    "class Comment:\n",
    "    def __init__(self, text):\n",
    "        self.text = text\n",
    "\n",
    "    @staticmethod\n",
    "    def merge_comments(first, second):\n",
    "        return f\"{first} {second}\"\n",
    "\n",
    "my_comment = Comment(\"My comment\")\n",
    "\n",
    "m_1 = Comment.merge_comments(\"Thanks\", \"Excellent\")\n",
    "print(m_1)\n",
    "\n",
    "m_2 = my_comment.merge_comments(\"Great\", \"OK\")\n",
    "print(m_2)"
   ]
  },
  {
   "cell_type": "code",
   "execution_count": 44,
   "id": "60ab0166-4fc5-4e60-8e6f-b327b45a0a67",
   "metadata": {},
   "outputs": [
    {
     "name": "stdout",
     "output_type": "stream",
     "text": [
      "Thanks Excellent\n"
     ]
    }
   ],
   "source": [
    "class Comment:\n",
    "    def __init__(self, text):\n",
    "        self.text = text\n",
    "\n",
    "    @staticmethod\n",
    "    def merge_comments(first, second):\n",
    "        return f\"{first} {second}\"\n",
    "\n",
    "my_comment = Comment(\"My comment\")\n",
    "m_1 = Comment.merge_comments(\"Thanks\", \"Excellent\")\n",
    "print(m_1)"
   ]
  },
  {
   "cell_type": "code",
   "execution_count": 45,
   "id": "9b527f42-96be-469f-8d5f-7a896b28f845",
   "metadata": {},
   "outputs": [
    {
     "name": "stdout",
     "output_type": "stream",
     "text": [
      "Great OK\n"
     ]
    }
   ],
   "source": [
    "class Comment:\n",
    "    def __init__(self, text):\n",
    "        self.text = text\n",
    "\n",
    "    @staticmethod\n",
    "    def merge_comments(first, second):\n",
    "        return f\"{first} {second}\"\n",
    "        \n",
    "my_comment = Comment(\"My comment\")\n",
    "m_2 = my_comment.merge_comments(\"Great\", \"OK\")\n",
    "print(m_2)"
   ]
  },
  {
   "cell_type": "markdown",
   "id": "7cd440df-0f82-4b2e-8d90-abb603f930e6",
   "metadata": {},
   "source": [
    "## 40.09 Атрибуты класса"
   ]
  },
  {
   "cell_type": "code",
   "execution_count": 46,
   "id": "6ec62322-97db-44f0-a879-447385e0e39a",
   "metadata": {},
   "outputs": [
    {
     "name": "stdout",
     "output_type": "stream",
     "text": [
      "1\n",
      "2\n"
     ]
    }
   ],
   "source": [
    "class Comment:\n",
    "    total_comments = 0\n",
    "\n",
    "    def __init__(self, text):\n",
    "        self.text = text\n",
    "        self.votes_qty = 0\n",
    "        Comment.total_comments += 1\n",
    "\n",
    "first_comment = Comment(\"First comment\")\n",
    "print(Comment.total_comments)\n",
    "\n",
    "second_comment = Comment(\"Second comment\")\n",
    "print(Comment.total_comments)"
   ]
  },
  {
   "cell_type": "code",
   "execution_count": 47,
   "id": "ca54ee80-55ab-482e-a4b4-a5e79c70dfb6",
   "metadata": {},
   "outputs": [
    {
     "name": "stdout",
     "output_type": "stream",
     "text": [
      "2\n",
      "2\n"
     ]
    }
   ],
   "source": [
    "class Comment:\n",
    "    total_comments = 0\n",
    "\n",
    "    def __init__(self, text):\n",
    "        self.text = text\n",
    "        self.votes_qty = 0\n",
    "        Comment.total_comments += 1\n",
    "\n",
    "first_comment = Comment(\"First comment\")\n",
    "second_comment = Comment(\"Second comment\")\n",
    "\n",
    "print(Comment.total_comments)\n",
    "print(Comment.total_comments)"
   ]
  },
  {
   "cell_type": "code",
   "execution_count": 48,
   "id": "7c3dcade-af1f-467d-8d90-3966fe93e12e",
   "metadata": {},
   "outputs": [
    {
     "name": "stdout",
     "output_type": "stream",
     "text": [
      "2\n",
      "2\n",
      "5\n",
      "2\n"
     ]
    }
   ],
   "source": [
    "class Comment:\n",
    "    total_comments = 0\n",
    "\n",
    "    def __init__(self, text):\n",
    "        self.text = text\n",
    "        self.votes_qty = 0\n",
    "        Comment.total_comments += 1\n",
    "\n",
    "first_comment = Comment(\"First comment\")\n",
    "second_comment = Comment(\"Second comment\")\n",
    "\n",
    "print(first_comment.total_comments)\n",
    "print(second_comment.total_comments)\n",
    "\n",
    "first_comment.total_comments = 5\n",
    "print(first_comment.total_comments)\n",
    "print(second_comment.total_comments)"
   ]
  },
  {
   "cell_type": "code",
   "execution_count": 49,
   "id": "2c2753e8-6853-47ac-8b70-de918f87343c",
   "metadata": {},
   "outputs": [
    {
     "name": "stdout",
     "output_type": "stream",
     "text": [
      "5\n",
      "2\n",
      "{'text': 'First comment', 'votes_qty': 0, 'total_comments': 5}\n",
      "{'text': 'Second comment', 'votes_qty': 0}\n"
     ]
    }
   ],
   "source": [
    "first_comment.total_comments = 5\n",
    "print(first_comment.total_comments)\n",
    "print(second_comment.total_comments)\n",
    "\n",
    "print(first_comment.__dict__)\n",
    "print(second_comment.__dict__)"
   ]
  },
  {
   "cell_type": "code",
   "execution_count": 50,
   "id": "df7ae573-a81f-40f4-bd16-d590fb0ed29e",
   "metadata": {},
   "outputs": [
    {
     "name": "stdout",
     "output_type": "stream",
     "text": [
      "2\n",
      "2\n",
      "2\n",
      "111\n",
      "111\n",
      "111\n"
     ]
    }
   ],
   "source": [
    "class Comment:\n",
    "    total_comments = 0\n",
    "\n",
    "    def __init__(self, text):\n",
    "        self.text = text\n",
    "        self.votes_qty = 0\n",
    "        Comment.total_comments += 1\n",
    "\n",
    "first_comment = Comment(\"First comment\")\n",
    "second_comment = Comment(\"Second comment\")\n",
    "\n",
    "print(Comment.total_comments)\n",
    "print(first_comment.total_comments)\n",
    "print(second_comment.total_comments)\n",
    "\n",
    "Comment.total_comments = 111\n",
    "print(Comment.total_comments)\n",
    "print(first_comment.total_comments)\n",
    "print(second_comment.total_comments)"
   ]
  }
 ],
 "metadata": {
  "kernelspec": {
   "display_name": "Python 3 (ipykernel)",
   "language": "python",
   "name": "python3"
  },
  "language_info": {
   "codemirror_mode": {
    "name": "ipython",
    "version": 3
   },
   "file_extension": ".py",
   "mimetype": "text/x-python",
   "name": "python",
   "nbconvert_exporter": "python",
   "pygments_lexer": "ipython3",
   "version": "3.12.4"
  }
 },
 "nbformat": 4,
 "nbformat_minor": 5
}
