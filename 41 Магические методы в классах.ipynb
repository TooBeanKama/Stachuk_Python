{
 "cells": [
  {
   "cell_type": "markdown",
   "id": "7e4ef1f7-710c-4395-9001-13a3cdd8676a",
   "metadata": {},
   "source": [
    "# 41.01 Магические методы в классах"
   ]
  },
  {
   "cell_type": "code",
   "execution_count": null,
   "id": "cfc1ac5e-71c1-4827-8f6e-6840796f0773",
   "metadata": {},
   "outputs": [],
   "source": [
    "class Comment:\n",
    "    def __init__(self, text):\n",
    "        self.text = text\n",
    "        self.votes_qty = 0\n",
    "    \n",
    "    def upvote(self):\n",
    "        self.votes_qty += 1\n",
    "\n",
    "first_comment = Comment(\"First comment\")\n",
    "first_comment.upvote()\n",
    "\n",
    "second_comment = Comment(\"Second comment\")\n",
    "second_comment.upvote()"
   ]
  },
  {
   "cell_type": "code",
   "execution_count": 3,
   "id": "8d7e1ab4-03b0-4a67-a0b9-d8f3d8b36e23",
   "metadata": {},
   "outputs": [
    {
     "ename": "TypeError",
     "evalue": "unsupported operand type(s) for +: 'Comment' and 'Comment'",
     "output_type": "error",
     "traceback": [
      "\u001b[1;31m---------------------------------------------------------------------------\u001b[0m",
      "\u001b[1;31mTypeError\u001b[0m                                 Traceback (most recent call last)",
      "Cell \u001b[1;32mIn[3], line 1\u001b[0m\n\u001b[1;32m----> 1\u001b[0m \u001b[38;5;28mprint\u001b[39m(first_comment \u001b[38;5;241m+\u001b[39m second_comment)\n",
      "\u001b[1;31mTypeError\u001b[0m: unsupported operand type(s) for +: 'Comment' and 'Comment'"
     ]
    }
   ],
   "source": [
    "print(first_comment + second_comment)"
   ]
  },
  {
   "cell_type": "markdown",
   "id": "51b5c806-7cb9-4118-9fde-ab7eb2659dce",
   "metadata": {},
   "source": [
    "## Магический метод `__add__`"
   ]
  },
  {
   "cell_type": "code",
   "execution_count": 5,
   "id": "4c0301a1-c54c-4c6f-b291-911bfc43bdc1",
   "metadata": {},
   "outputs": [
    {
     "name": "stdout",
     "output_type": "stream",
     "text": [
      "('First comment Second comment', 2)\n"
     ]
    }
   ],
   "source": [
    "class Comment:\n",
    "    def __init__(self, text):\n",
    "        self.text = text\n",
    "        self.votes_qty = 0\n",
    "    \n",
    "    def upvote(self):\n",
    "        self.votes_qty += 1\n",
    "\n",
    "    def __add__(self, other):\n",
    "        return (f\"{self.text} {other.text}\",\n",
    "                self.votes_qty + other.votes_qty)\n",
    "\n",
    "first_comment = Comment(\"First comment\")\n",
    "first_comment.upvote()\n",
    "\n",
    "second_comment = Comment(\"Second comment\")\n",
    "second_comment.upvote()\n",
    "\n",
    "print(first_comment + second_comment)"
   ]
  },
  {
   "cell_type": "code",
   "execution_count": 6,
   "id": "f08ad59e-decf-4f37-87c7-7da5b797ff12",
   "metadata": {},
   "outputs": [
    {
     "name": "stdout",
     "output_type": "stream",
     "text": [
      "['First comment Second comment', 2]\n"
     ]
    }
   ],
   "source": [
    "# возвращаем список\n",
    "class Comment:\n",
    "    def __init__(self, text):\n",
    "        self.text = text\n",
    "        self.votes_qty = 0\n",
    "    \n",
    "    def upvote(self):\n",
    "        self.votes_qty += 1\n",
    "\n",
    "    def __add__(self, other):\n",
    "        return [f\"{self.text} {other.text}\",\n",
    "                self.votes_qty + other.votes_qty]\n",
    "\n",
    "first_comment = Comment(\"First comment\")\n",
    "first_comment.upvote()\n",
    "\n",
    "second_comment = Comment(\"Second comment\")\n",
    "second_comment.upvote()\n",
    "\n",
    "print(first_comment + second_comment)"
   ]
  },
  {
   "cell_type": "code",
   "execution_count": 7,
   "id": "2e652a5b-0a9c-4a3d-a818-6b425914d2d0",
   "metadata": {},
   "outputs": [
    {
     "name": "stdout",
     "output_type": "stream",
     "text": [
      "{'text': 'First comment Second comment', 'total_votes_qty': 2}\n"
     ]
    }
   ],
   "source": [
    "# возвращаем словарь\n",
    "class Comment:\n",
    "    def __init__(self, text):\n",
    "        self.text = text\n",
    "        self.votes_qty = 0\n",
    "    \n",
    "    def upvote(self):\n",
    "        self.votes_qty += 1\n",
    "\n",
    "    def __add__(self, other):\n",
    "        return {\n",
    "                'text': f\"{self.text} {other.text}\",\n",
    "                'total_votes_qty': self.votes_qty + other.votes_qty\n",
    "        }\n",
    "\n",
    "first_comment = Comment(\"First comment\")\n",
    "first_comment.upvote()\n",
    "\n",
    "second_comment = Comment(\"Second comment\")\n",
    "second_comment.upvote()\n",
    "\n",
    "print(first_comment + second_comment)"
   ]
  },
  {
   "cell_type": "markdown",
   "id": "0813015e-2159-45fa-b04e-e5d17b314fdc",
   "metadata": {},
   "source": [
    "## Магический метод `__eq__`: для сравнения"
   ]
  },
  {
   "cell_type": "code",
   "execution_count": 10,
   "id": "e7c1f763-c741-4918-9ffe-74c2f3cf58ab",
   "metadata": {},
   "outputs": [
    {
     "name": "stdout",
     "output_type": "stream",
     "text": [
      "{'text': 'First comment Second comment', 'total_votes_qty': 2}\n",
      "False\n",
      "True\n"
     ]
    }
   ],
   "source": [
    "# возвращаем словарь\n",
    "class Comment:\n",
    "    def __init__(self, text):\n",
    "        self.text = text\n",
    "        self.votes_qty = 0\n",
    "    \n",
    "    def upvote(self):\n",
    "        self.votes_qty += 1\n",
    "\n",
    "    def __add__(self, other):\n",
    "        return {\n",
    "                'text': f\"{self.text} {other.text}\",\n",
    "                'total_votes_qty': self.votes_qty + other.votes_qty\n",
    "        }\n",
    "\n",
    "    def __eq__(self, other):\n",
    "        if (self.text == other.text) and (self.votes_qty == other.votes_qty):\n",
    "            return True\n",
    "        return False\n",
    "\n",
    "first_comment = Comment(\"First comment\")\n",
    "first_comment.upvote()\n",
    "\n",
    "second_comment = Comment(\"Second comment\")\n",
    "second_comment.upvote()\n",
    "\n",
    "third_comment = Comment(\"First comment\")\n",
    "third_comment.upvote()\n",
    "\n",
    "print(first_comment + second_comment)\n",
    "print(first_comment == second_comment)\n",
    "print(first_comment == third_comment)"
   ]
  },
  {
   "cell_type": "markdown",
   "id": "1977c74b-f880-470c-82c1-8810748e478c",
   "metadata": {},
   "source": [
    "# 41.02 Наследование из других классов"
   ]
  },
  {
   "cell_type": "code",
   "execution_count": 13,
   "id": "55ac36c6-cf0f-4db3-b4f4-28be1ffaf03b",
   "metadata": {},
   "outputs": [
    {
     "name": "stdout",
     "output_type": "stream",
     "text": [
      "List has 3 elements\n"
     ]
    }
   ],
   "source": [
    "class ExtendedList(list):\n",
    "    def print_list_info(self):\n",
    "        print(f\"List has {len(self)} elements\")\n",
    "\n",
    "custom_list = ExtendedList([3, 5, 2])\n",
    "custom_list.print_list_info()"
   ]
  },
  {
   "cell_type": "markdown",
   "id": "30e74edc-8495-4e26-a512-bb0ea5261555",
   "metadata": {},
   "source": [
    "# 41.03 Практика - Создание подклассов"
   ]
  },
  {
   "cell_type": "code",
   "execution_count": 14,
   "id": "f3fbfe57-0acd-49a4-8a14-a709509e053c",
   "metadata": {},
   "outputs": [
    {
     "name": "stdout",
     "output_type": "stream",
     "text": [
      "List has 3 elements\n"
     ]
    }
   ],
   "source": [
    "class ExtendedList(list):\n",
    "    def print_list_info(self):\n",
    "        print(f\"List has {len(self)} elements\")\n",
    "\n",
    "custom_list = ExtendedList([3, 5, 2])\n",
    "custom_list.print_list_info()"
   ]
  },
  {
   "cell_type": "code",
   "execution_count": 22,
   "id": "192d6581-c155-48c3-9617-cd6e8517342d",
   "metadata": {},
   "outputs": [
    {
     "data": {
      "text/plain": [
       "['append',\n",
       " 'clear',\n",
       " 'copy',\n",
       " 'count',\n",
       " 'extend',\n",
       " 'index',\n",
       " 'insert',\n",
       " 'pop',\n",
       " 'print_list_info',\n",
       " 'remove',\n",
       " 'reverse',\n",
       " 'sort']"
      ]
     },
     "execution_count": 22,
     "metadata": {},
     "output_type": "execute_result"
    }
   ],
   "source": [
    "[method for method in  dir(custom_list) \n",
    " if not method.startswith('_')]"
   ]
  },
  {
   "cell_type": "code",
   "execution_count": 1,
   "id": "f35e4ea1-5e23-4b06-a042-b56c299eeb7f",
   "metadata": {},
   "outputs": [
    {
     "name": "stdout",
     "output_type": "stream",
     "text": [
      "List has 3 elements\n",
      "List has 4 elements\n"
     ]
    }
   ],
   "source": [
    "class ExtendedList(list):\n",
    "    def print_list_info(self):\n",
    "        print(f\"List has {len(self)} elements\")\n",
    "\n",
    "custom_list = ExtendedList([3, 5, 2])\n",
    "custom_list.print_list_info()\n",
    "\n",
    "custom_list.append(7)\n",
    "custom_list.print_list_info()"
   ]
  },
  {
   "cell_type": "code",
   "execution_count": 2,
   "id": "8c603cbe-ac18-42f2-803e-4e01a01bc471",
   "metadata": {},
   "outputs": [
    {
     "data": {
      "text/plain": [
       "{}"
      ]
     },
     "execution_count": 2,
     "metadata": {},
     "output_type": "execute_result"
    }
   ],
   "source": [
    "# смотрим на собственные атрибуты\n",
    "custom_list.__dict__"
   ]
  },
  {
   "cell_type": "code",
   "execution_count": 3,
   "id": "9037e690-b718-44ae-968a-f857957a47c9",
   "metadata": {},
   "outputs": [
    {
     "data": {
      "text/plain": [
       "mappingproxy({'__module__': '__main__',\n",
       "              'print_list_info': <function __main__.ExtendedList.print_list_info(self)>,\n",
       "              '__dict__': <attribute '__dict__' of 'ExtendedList' objects>,\n",
       "              '__weakref__': <attribute '__weakref__' of 'ExtendedList' objects>,\n",
       "              '__doc__': None})"
      ]
     },
     "execution_count": 3,
     "metadata": {},
     "output_type": "execute_result"
    }
   ],
   "source": [
    "#  собственные атрибуты класса ExtendedList\n",
    "ExtendedList.__dict__"
   ]
  },
  {
   "cell_type": "code",
   "execution_count": 4,
   "id": "63a76eb7-561e-4573-8347-2df3e7ace246",
   "metadata": {},
   "outputs": [
    {
     "data": {
      "text/plain": [
       "mappingproxy({'__new__': <function list.__new__(*args, **kwargs)>,\n",
       "              '__repr__': <slot wrapper '__repr__' of 'list' objects>,\n",
       "              '__hash__': None,\n",
       "              '__getattribute__': <slot wrapper '__getattribute__' of 'list' objects>,\n",
       "              '__lt__': <slot wrapper '__lt__' of 'list' objects>,\n",
       "              '__le__': <slot wrapper '__le__' of 'list' objects>,\n",
       "              '__eq__': <slot wrapper '__eq__' of 'list' objects>,\n",
       "              '__ne__': <slot wrapper '__ne__' of 'list' objects>,\n",
       "              '__gt__': <slot wrapper '__gt__' of 'list' objects>,\n",
       "              '__ge__': <slot wrapper '__ge__' of 'list' objects>,\n",
       "              '__iter__': <slot wrapper '__iter__' of 'list' objects>,\n",
       "              '__init__': <slot wrapper '__init__' of 'list' objects>,\n",
       "              '__len__': <slot wrapper '__len__' of 'list' objects>,\n",
       "              '__getitem__': <method '__getitem__' of 'list' objects>,\n",
       "              '__setitem__': <slot wrapper '__setitem__' of 'list' objects>,\n",
       "              '__delitem__': <slot wrapper '__delitem__' of 'list' objects>,\n",
       "              '__add__': <slot wrapper '__add__' of 'list' objects>,\n",
       "              '__mul__': <slot wrapper '__mul__' of 'list' objects>,\n",
       "              '__rmul__': <slot wrapper '__rmul__' of 'list' objects>,\n",
       "              '__contains__': <slot wrapper '__contains__' of 'list' objects>,\n",
       "              '__iadd__': <slot wrapper '__iadd__' of 'list' objects>,\n",
       "              '__imul__': <slot wrapper '__imul__' of 'list' objects>,\n",
       "              '__reversed__': <method '__reversed__' of 'list' objects>,\n",
       "              '__sizeof__': <method '__sizeof__' of 'list' objects>,\n",
       "              'clear': <method 'clear' of 'list' objects>,\n",
       "              'copy': <method 'copy' of 'list' objects>,\n",
       "              'append': <method 'append' of 'list' objects>,\n",
       "              'insert': <method 'insert' of 'list' objects>,\n",
       "              'extend': <method 'extend' of 'list' objects>,\n",
       "              'pop': <method 'pop' of 'list' objects>,\n",
       "              'remove': <method 'remove' of 'list' objects>,\n",
       "              'index': <method 'index' of 'list' objects>,\n",
       "              'count': <method 'count' of 'list' objects>,\n",
       "              'reverse': <method 'reverse' of 'list' objects>,\n",
       "              'sort': <method 'sort' of 'list' objects>,\n",
       "              '__class_getitem__': <method '__class_getitem__' of 'list' objects>,\n",
       "              '__doc__': 'Built-in mutable sequence.\\n\\nIf no argument is given, the constructor creates a new empty list.\\nThe argument must be an iterable if specified.'})"
      ]
     },
     "execution_count": 4,
     "metadata": {},
     "output_type": "execute_result"
    }
   ],
   "source": [
    "#  собственные атрибуты класса list\n",
    "list.__dict__"
   ]
  },
  {
   "cell_type": "code",
   "execution_count": 5,
   "id": "e04ba893-4beb-49ea-b9f0-28ee3ad60cc1",
   "metadata": {},
   "outputs": [
    {
     "data": {
      "text/plain": [
       "mappingproxy({'__new__': <function object.__new__(*args, **kwargs)>,\n",
       "              '__repr__': <slot wrapper '__repr__' of 'object' objects>,\n",
       "              '__hash__': <slot wrapper '__hash__' of 'object' objects>,\n",
       "              '__str__': <slot wrapper '__str__' of 'object' objects>,\n",
       "              '__getattribute__': <slot wrapper '__getattribute__' of 'object' objects>,\n",
       "              '__setattr__': <slot wrapper '__setattr__' of 'object' objects>,\n",
       "              '__delattr__': <slot wrapper '__delattr__' of 'object' objects>,\n",
       "              '__lt__': <slot wrapper '__lt__' of 'object' objects>,\n",
       "              '__le__': <slot wrapper '__le__' of 'object' objects>,\n",
       "              '__eq__': <slot wrapper '__eq__' of 'object' objects>,\n",
       "              '__ne__': <slot wrapper '__ne__' of 'object' objects>,\n",
       "              '__gt__': <slot wrapper '__gt__' of 'object' objects>,\n",
       "              '__ge__': <slot wrapper '__ge__' of 'object' objects>,\n",
       "              '__init__': <slot wrapper '__init__' of 'object' objects>,\n",
       "              '__reduce_ex__': <method '__reduce_ex__' of 'object' objects>,\n",
       "              '__reduce__': <method '__reduce__' of 'object' objects>,\n",
       "              '__getstate__': <method '__getstate__' of 'object' objects>,\n",
       "              '__subclasshook__': <method '__subclasshook__' of 'object' objects>,\n",
       "              '__init_subclass__': <method '__init_subclass__' of 'object' objects>,\n",
       "              '__format__': <method '__format__' of 'object' objects>,\n",
       "              '__sizeof__': <method '__sizeof__' of 'object' objects>,\n",
       "              '__dir__': <method '__dir__' of 'object' objects>,\n",
       "              '__class__': <attribute '__class__' of 'object' objects>,\n",
       "              '__doc__': 'The base class of the class hierarchy.\\n\\nWhen called, it accepts no arguments and returns a new featureless\\ninstance that has no instance attributes and cannot be given any.\\n'})"
      ]
     },
     "execution_count": 5,
     "metadata": {},
     "output_type": "execute_result"
    }
   ],
   "source": [
    "#  собственные атрибуты класса object\n",
    "object.__dict__"
   ]
  },
  {
   "cell_type": "code",
   "execution_count": 6,
   "id": "240d3ce8-dc96-426c-802e-0feae8a06329",
   "metadata": {},
   "outputs": [
    {
     "data": {
      "text/plain": [
       "'The base class of the class hierarchy.\\n\\nWhen called, it accepts no arguments and returns a new featureless\\ninstance that has no instance attributes and cannot be given any.\\n'"
      ]
     },
     "execution_count": 6,
     "metadata": {},
     "output_type": "execute_result"
    }
   ],
   "source": [
    "object.__doc__"
   ]
  },
  {
   "cell_type": "code",
   "execution_count": 7,
   "id": "2d78ccfa-3a04-4686-a672-57276d342374",
   "metadata": {},
   "outputs": [],
   "source": [
    "## Какие подклассы есть у класса `list`"
   ]
  },
  {
   "cell_type": "code",
   "execution_count": 8,
   "id": "2138f170-9820-410f-b582-49ad6ca7e789",
   "metadata": {},
   "outputs": [
    {
     "name": "stdout",
     "output_type": "stream",
     "text": [
      "[<class '_frozen_importlib._List'>, <class 'functools._HashedSeq'>, <class 'traceback.StackSummary'>, <class 'socketserver._Threads'>, <class 'logging.config.ConvertingList'>, <class 'traitlets.config.loader.DeferredConfigList'>, <class 'dateutil.parser._parser._ymd'>, <class 'email.header._Accumulator'>, <class 'IPython.utils.text.SList'>, <class 'prompt_toolkit.document._ImmutableLineList'>, <class 'prompt_toolkit.formatted_text.base.FormattedText'>, <class 'xml.dom.minicompat.NodeList'>, <class 'prompt_toolkit.layout.utils._ExplodedList'>, <class 'parso.parser.Stack'>, <class '_pydevd_frame_eval.vendored.bytecode.bytecode._BaseBytecodeList'>, <class '_pydevd_frame_eval.vendored.bytecode.bytecode._InstrList'>, <class '__main__.ExtendedList'>]\n"
     ]
    }
   ],
   "source": [
    "print(list.__subclasses__())"
   ]
  },
  {
   "cell_type": "code",
   "execution_count": 10,
   "id": "16185f0b-62f4-46e7-b44e-35fa47410ecb",
   "metadata": {},
   "outputs": [
    {
     "name": "stdout",
     "output_type": "stream",
     "text": [
      "1068\n"
     ]
    }
   ],
   "source": [
    "print(len(object.__subclasses__()))"
   ]
  }
 ],
 "metadata": {
  "kernelspec": {
   "display_name": "Python 3 (ipykernel)",
   "language": "python",
   "name": "python3"
  },
  "language_info": {
   "codemirror_mode": {
    "name": "ipython",
    "version": 3
   },
   "file_extension": ".py",
   "mimetype": "text/x-python",
   "name": "python",
   "nbconvert_exporter": "python",
   "pygments_lexer": "ipython3",
   "version": "3.12.4"
  }
 },
 "nbformat": 4,
 "nbformat_minor": 5
}
