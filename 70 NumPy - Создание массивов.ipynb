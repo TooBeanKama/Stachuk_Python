{
 "cells": [
  {
   "cell_type": "markdown",
   "id": "07a53699-91e5-47aa-a4c6-b55fa682ed09",
   "metadata": {},
   "source": [
    "# 70.03 Создание одномерных массивов в NumPy"
   ]
  },
  {
   "cell_type": "code",
   "execution_count": 2,
   "id": "2584c9a7-c57a-4d20-bac0-443ed3806d01",
   "metadata": {},
   "outputs": [
    {
     "data": {
      "text/plain": [
       "<module 'numpy' from 'C:\\\\Users\\\\shura\\\\anaconda3\\\\Lib\\\\site-packages\\\\numpy\\\\__init__.py'>"
      ]
     },
     "execution_count": 2,
     "metadata": {},
     "output_type": "execute_result"
    }
   ],
   "source": [
    "import numpy as np\n",
    "np"
   ]
  },
  {
   "cell_type": "code",
   "execution_count": 3,
   "id": "3952142b-5213-4203-bc93-c8a42797af4f",
   "metadata": {},
   "outputs": [
    {
     "data": {
      "text/plain": [
       "array([1, 2, 3, 4])"
      ]
     },
     "execution_count": 3,
     "metadata": {},
     "output_type": "execute_result"
    }
   ],
   "source": [
    "# создание массива из списка\n",
    "nums_array = np.array([1, 2, 3, 4])\n",
    "nums_array"
   ]
  },
  {
   "cell_type": "code",
   "execution_count": 4,
   "id": "4bc05254-45ba-48d7-ae6b-4b6cc8729208",
   "metadata": {},
   "outputs": [
    {
     "data": {
      "text/plain": [
       "array([1, 2, 3, 4])"
      ]
     },
     "execution_count": 4,
     "metadata": {},
     "output_type": "execute_result"
    }
   ],
   "source": [
    "# создание массива из кортежа\n",
    "nums_array = np.array((1, 2, 3, 4))\n",
    "nums_array"
   ]
  },
  {
   "cell_type": "code",
   "execution_count": 5,
   "id": "405ed797-6d43-400c-83b9-c1df212d8a2d",
   "metadata": {},
   "outputs": [
    {
     "data": {
      "text/plain": [
       "numpy.ndarray"
      ]
     },
     "execution_count": 5,
     "metadata": {},
     "output_type": "execute_result"
    }
   ],
   "source": [
    "#naarray - n-dimensional array\n",
    "type(nums_array)"
   ]
  },
  {
   "cell_type": "code",
   "execution_count": 6,
   "id": "52e9f3c5-4bd7-4fd4-b894-2327acbd6985",
   "metadata": {},
   "outputs": [
    {
     "data": {
      "text/plain": [
       "1"
      ]
     },
     "execution_count": 6,
     "metadata": {},
     "output_type": "execute_result"
    }
   ],
   "source": [
    "# получение доступа к элементу массива - элементы упорядочены\n",
    "nums_array[0]"
   ]
  },
  {
   "cell_type": "code",
   "execution_count": 7,
   "id": "b48bea4d-7df8-49ef-b956-d83cac7f062d",
   "metadata": {},
   "outputs": [
    {
     "data": {
      "text/plain": [
       "4"
      ]
     },
     "execution_count": 7,
     "metadata": {},
     "output_type": "execute_result"
    }
   ],
   "source": [
    "nums_array[-1]"
   ]
  },
  {
   "cell_type": "markdown",
   "id": "15473417-7c08-4314-8cf6-7526338cb1f6",
   "metadata": {},
   "source": [
    "# 70.04 Форма, размерность и тип данных в NumPy"
   ]
  },
  {
   "cell_type": "code",
   "execution_count": 8,
   "id": "c97b4e16-8a3d-4357-8cff-fcbdf3b5a645",
   "metadata": {},
   "outputs": [
    {
     "data": {
      "text/plain": [
       "(4,)"
      ]
     },
     "execution_count": 8,
     "metadata": {},
     "output_type": "execute_result"
    }
   ],
   "source": [
    "nums_array = np.array([1, 2, 3, 4])\n",
    "\n",
    "# смотрим список доступных атрибутов\n",
    "nums_array.shape"
   ]
  },
  {
   "cell_type": "code",
   "execution_count": 9,
   "id": "3679e155-a996-4ada-bffe-b5fa9db65c64",
   "metadata": {},
   "outputs": [
    {
     "data": {
      "text/plain": [
       "(4,)"
      ]
     },
     "execution_count": 9,
     "metadata": {},
     "output_type": "execute_result"
    }
   ],
   "source": [
    "# форма массива\n",
    "nums_array.shape"
   ]
  },
  {
   "cell_type": "code",
   "execution_count": 10,
   "id": "10f428be-5790-4453-a62d-eca20f969593",
   "metadata": {},
   "outputs": [
    {
     "data": {
      "text/plain": [
       "1"
      ]
     },
     "execution_count": 10,
     "metadata": {},
     "output_type": "execute_result"
    }
   ],
   "source": [
    "# размерность массива\n",
    "nums_array.ndim"
   ]
  },
  {
   "cell_type": "code",
   "execution_count": 11,
   "id": "4442c20a-ce01-4e65-b143-a473afc69d5b",
   "metadata": {},
   "outputs": [
    {
     "data": {
      "text/plain": [
       "4"
      ]
     },
     "execution_count": 11,
     "metadata": {},
     "output_type": "execute_result"
    }
   ],
   "source": [
    "# количество элементов в массиве\n",
    "nums_array.size"
   ]
  },
  {
   "cell_type": "code",
   "execution_count": 12,
   "id": "4c22b8f4-2960-4df3-9e72-f73dbbe875b9",
   "metadata": {},
   "outputs": [
    {
     "data": {
      "text/plain": [
       "dtype('int32')"
      ]
     },
     "execution_count": 12,
     "metadata": {},
     "output_type": "execute_result"
    }
   ],
   "source": [
    "# тип значений в массиве\n",
    "nums_array.dtype"
   ]
  },
  {
   "cell_type": "code",
   "execution_count": 13,
   "id": "daf694e1-9250-4301-8ed4-381d1ea9ad5e",
   "metadata": {},
   "outputs": [
    {
     "data": {
      "text/plain": [
       "4"
      ]
     },
     "execution_count": 13,
     "metadata": {},
     "output_type": "execute_result"
    }
   ],
   "source": [
    "# размер каждого элемента \n",
    "# (сколько занимает места в памяти: колво байт)\n",
    "nums_array.itemsize"
   ]
  },
  {
   "cell_type": "code",
   "execution_count": 14,
   "id": "6f5d0ea7-60a0-4e24-82a7-da0306c2a54a",
   "metadata": {},
   "outputs": [
    {
     "data": {
      "text/plain": [
       "array(['True', '10', 'abs', '5.5'], dtype='<U32')"
      ]
     },
     "execution_count": 14,
     "metadata": {},
     "output_type": "execute_result"
    }
   ],
   "source": [
    "# создадим массив с элементами разных типов\n",
    "# получаем массив строк: приведение всех значений к одному типу\n",
    "np.array([True, 10, 'abs', 5.5])"
   ]
  },
  {
   "cell_type": "code",
   "execution_count": 15,
   "id": "3fbfb0b9-b742-445e-a07e-264dae81f881",
   "metadata": {},
   "outputs": [
    {
     "data": {
      "text/plain": [
       "dtype('<U32')"
      ]
     },
     "execution_count": 15,
     "metadata": {},
     "output_type": "execute_result"
    }
   ],
   "source": [
    "np.array([True, 10, 'abs', 5.5]).dtype"
   ]
  },
  {
   "cell_type": "code",
   "execution_count": 16,
   "id": "cc36ee06-aebc-461e-9eb5-7ec80e88d843",
   "metadata": {},
   "outputs": [
    {
     "data": {
      "text/plain": [
       "'str1024'"
      ]
     },
     "execution_count": 16,
     "metadata": {},
     "output_type": "execute_result"
    }
   ],
   "source": [
    "np.array([True, 10, 'abs', 5.5]).dtype.name"
   ]
  },
  {
   "cell_type": "code",
   "execution_count": 17,
   "id": "f6868106-acbb-4609-845a-3f2555e0f76a",
   "metadata": {},
   "outputs": [
    {
     "data": {
      "text/plain": [
       "128"
      ]
     },
     "execution_count": 17,
     "metadata": {},
     "output_type": "execute_result"
    }
   ],
   "source": [
    "np.array([True, 10, 'abs', 5.5]).itemsize"
   ]
  },
  {
   "cell_type": "code",
   "execution_count": 18,
   "id": "682deff2-6b6f-4163-8a20-3de721072eed",
   "metadata": {},
   "outputs": [
    {
     "data": {
      "text/plain": [
       "array([{'city': 'London'}, {'city': 'Boston'}], dtype=object)"
      ]
     },
     "execution_count": 18,
     "metadata": {},
     "output_type": "execute_result"
    }
   ],
   "source": [
    "# сохрание объектов в качестве переменных\n",
    "obj_array = np.array([{'city': 'London'},\n",
    "                      {'city': 'Boston'}])\n",
    "obj_array                  "
   ]
  },
  {
   "cell_type": "code",
   "execution_count": 19,
   "id": "40d7af33-6e5e-4aff-ac71-2fa9e28cad7a",
   "metadata": {},
   "outputs": [
    {
     "data": {
      "text/plain": [
       "'object'"
      ]
     },
     "execution_count": 19,
     "metadata": {},
     "output_type": "execute_result"
    }
   ],
   "source": [
    "obj_array .dtype.name"
   ]
  },
  {
   "cell_type": "code",
   "execution_count": 20,
   "id": "9af83a7b-1b18-4839-a92a-e7e33e3cef37",
   "metadata": {},
   "outputs": [
    {
     "data": {
      "text/plain": [
       "8"
      ]
     },
     "execution_count": 20,
     "metadata": {},
     "output_type": "execute_result"
    }
   ],
   "source": [
    "# т.е. сохраняются ссылки на адреса в памяти\n",
    "obj_array .itemsize"
   ]
  },
  {
   "cell_type": "markdown",
   "id": "0e40af95-74f9-4b90-af52-6ddd28d80567",
   "metadata": {},
   "source": [
    "# 70.05 Двухмерные массивы в NumPy"
   ]
  },
  {
   "cell_type": "code",
   "execution_count": 21,
   "id": "6c915cee-758c-47a3-9a3a-fac75b080d4f",
   "metadata": {},
   "outputs": [
    {
     "data": {
      "text/plain": [
       "array([[1, 2, 3],\n",
       "       [4, 5, 6]])"
      ]
     },
     "execution_count": 21,
     "metadata": {},
     "output_type": "execute_result"
    }
   ],
   "source": [
    "first = np.array([[1,2,3],[4,5,6]])\n",
    "first"
   ]
  },
  {
   "cell_type": "code",
   "execution_count": 22,
   "id": "7fa3bbbd-cd10-42d1-a719-f1474bdf6793",
   "metadata": {},
   "outputs": [
    {
     "ename": "ValueError",
     "evalue": "setting an array element with a sequence. The requested array has an inhomogeneous shape after 1 dimensions. The detected shape was (2,) + inhomogeneous part.",
     "output_type": "error",
     "traceback": [
      "\u001b[1;31m---------------------------------------------------------------------------\u001b[0m",
      "\u001b[1;31mValueError\u001b[0m                                Traceback (most recent call last)",
      "Cell \u001b[1;32mIn[22], line 3\u001b[0m\n\u001b[0;32m      1\u001b[0m \u001b[38;5;66;03m# попробуем добавить разное колво элементов\u001b[39;00m\n\u001b[0;32m      2\u001b[0m \u001b[38;5;66;03m# получим ошибку\u001b[39;00m\n\u001b[1;32m----> 3\u001b[0m first \u001b[38;5;241m=\u001b[39m np\u001b[38;5;241m.\u001b[39marray([[\u001b[38;5;241m1\u001b[39m,\u001b[38;5;241m2\u001b[39m,\u001b[38;5;241m3\u001b[39m],[\u001b[38;5;241m4\u001b[39m,\u001b[38;5;241m5\u001b[39m,\u001b[38;5;241m6\u001b[39m,\u001b[38;5;241m7\u001b[39m]])\n\u001b[0;32m      4\u001b[0m first\n",
      "\u001b[1;31mValueError\u001b[0m: setting an array element with a sequence. The requested array has an inhomogeneous shape after 1 dimensions. The detected shape was (2,) + inhomogeneous part."
     ]
    }
   ],
   "source": [
    "# попробуем добавить разное колво элементов\n",
    "# получим ошибку\n",
    "first = np.array([[1,2,3],[4,5,6,7]])\n",
    "first"
   ]
  },
  {
   "cell_type": "code",
   "execution_count": 23,
   "id": "5b78e5f8-a06f-4282-91ff-55eb180db6bb",
   "metadata": {},
   "outputs": [
    {
     "name": "stdout",
     "output_type": "stream",
     "text": [
      "[[1 2 3]\n",
      " [4 5 6]]\n",
      "\n",
      "shape: (2, 3)\n",
      "ndim: 2\n",
      "size: 6\n"
     ]
    }
   ],
   "source": [
    "# получаем 2 ряда и 3 колонки\n",
    "first = np.array([[1,2,3],[4,5,6]])\n",
    "print(first)\n",
    "\n",
    "# получаем 2 ряда и 3 колонки\n",
    "print(\"\\nshape:\", first.shape)\n",
    "print(\"ndim:\", first.ndim)\n",
    "print(\"size:\", first.size)"
   ]
  },
  {
   "cell_type": "code",
   "execution_count": 24,
   "id": "cf834a2c-2454-42eb-a96c-07bb0c935065",
   "metadata": {},
   "outputs": [
    {
     "name": "stdout",
     "output_type": "stream",
     "text": [
      "[[ 7  8  9]\n",
      " [10 11 12]]\n",
      "\n",
      "shape: (2, 3)\n",
      "ndim: 2\n",
      "size: 6\n"
     ]
    }
   ],
   "source": [
    "second = np.array([[7,8,9], [10,11,12]])\n",
    "print(second)\n",
    "print(\"\\nshape:\", second .shape)\n",
    "print(\"ndim:\", second.ndim)\n",
    "print(\"size:\", second.size)"
   ]
  },
  {
   "cell_type": "code",
   "execution_count": 25,
   "id": "ab0cba6b-b588-457b-9553-d7c5e32a751b",
   "metadata": {},
   "outputs": [
    {
     "data": {
      "text/plain": [
       "array([[ 8, 10, 12],\n",
       "       [14, 16, 18]])"
      ]
     },
     "execution_count": 25,
     "metadata": {},
     "output_type": "execute_result"
    }
   ],
   "source": [
    "# сложение двух массивов\n",
    "# поэлементное сложение\n",
    "first + second"
   ]
  },
  {
   "cell_type": "code",
   "execution_count": 26,
   "id": "9c9b9211-917a-411c-bfda-404a341d11a5",
   "metadata": {},
   "outputs": [
    {
     "name": "stdout",
     "output_type": "stream",
     "text": [
      "Исходный массив\n",
      "[[1 2 3]\n",
      " [4 5 6]]\n",
      "------------------------------\n",
      "Прибавление числа к массиву\n",
      "[[101 102 103]\n",
      " [104 105 106]]\n",
      "------------------------------\n",
      "Вычитание числа\n",
      "[[-99 -98 -97]\n",
      " [-96 -95 -94]]\n",
      "------------------------------\n",
      "Умножение на число\n",
      "[[ 50 100 150]\n",
      " [200 250 300]]\n",
      "------------------------------\n",
      "Деление на число\n",
      "[[0.01 0.02 0.03]\n",
      " [0.04 0.05 0.06]]\n",
      "------------------------------\n",
      "Исходный массив не меняется\n",
      "[[1 2 3]\n",
      " [4 5 6]]\n"
     ]
    }
   ],
   "source": [
    "# арифметические операции - поэлементно\n",
    "print(\"Исходный массив\")\n",
    "print(first)\n",
    "\n",
    "print(30*'-')\n",
    "print(\"Прибавление числа к массиву\")\n",
    "print(first + 100)\n",
    "\n",
    "print(30*'-')\n",
    "print(\"Вычитание числа\")\n",
    "print(first - 100)\n",
    "\n",
    "print(30*'-')\n",
    "print(\"Умножение на число\")\n",
    "print(first * 50)\n",
    "\n",
    "print(30*'-')\n",
    "print(\"Деление на число\")\n",
    "print(first / 100)\n",
    "\n",
    "print(30*'-')\n",
    "print(\"Исходный массив не меняется\")\n",
    "print(first)"
   ]
  },
  {
   "cell_type": "markdown",
   "id": "45b26acb-4f96-4cf1-8fb3-342801d1c035",
   "metadata": {},
   "source": [
    "# 70.07 Слияние массивов NumPy"
   ]
  },
  {
   "cell_type": "code",
   "execution_count": 27,
   "id": "fdfeb857-a24b-43a4-a185-94c51879224d",
   "metadata": {},
   "outputs": [
    {
     "name": "stdout",
     "output_type": "stream",
     "text": [
      "first[1,1]:  5\n",
      "first[1][1]:  5\n"
     ]
    }
   ],
   "source": [
    "first = np.array([[1,2,3],[4,5,6]])\n",
    "# чтобы вытащить элемент - указываем координаты\n",
    "print('first[1,1]: ',first[1,1])\n",
    "print('first[1][1]: ',first[1][1])"
   ]
  },
  {
   "cell_type": "code",
   "execution_count": 28,
   "id": "39028e4c-ea9a-423e-a570-a4864ca200ef",
   "metadata": {},
   "outputs": [
    {
     "name": "stdout",
     "output_type": "stream",
     "text": [
      "axis=0\n",
      " [[ 1  2  3]\n",
      " [ 4  5  6]\n",
      " [ 7  8  9]\n",
      " [10 11 12]]\n",
      "\n",
      "axis=1\n",
      " [[ 1  2  3  7  8  9]\n",
      " [ 4  5  6 10 11 12]]\n"
     ]
    }
   ],
   "source": [
    "# слияние двух массивов\n",
    "first = np.array([[1,2,3],[4,5,6]])\n",
    "second = np.array([[7,8,9], [10,11,12]])\n",
    "\n",
    "print('axis=0\\n', np.concatenate((first, second), axis=0))\n",
    "print('\\naxis=1\\n', np.concatenate((first, second), axis=1))"
   ]
  },
  {
   "cell_type": "code",
   "execution_count": 29,
   "id": "5c77f615-6dd5-4297-86ff-676911e6d151",
   "metadata": {},
   "outputs": [
    {
     "name": "stdout",
     "output_type": "stream",
     "text": [
      "axis=0\n",
      " [[ 7  8  9]\n",
      " [10 11 12]\n",
      " [ 1  2  3]\n",
      " [ 4  5  6]]\n",
      "\n",
      "axis=1\n",
      " [[ 7  8  9  1  2  3]\n",
      " [10 11 12  4  5  6]]\n"
     ]
    }
   ],
   "source": [
    "# порядок следования в concatenate играет роль\n",
    "print('axis=0\\n', np.concatenate((second, first), axis=0))\n",
    "print('\\naxis=1\\n', np.concatenate((second, first), axis=1))"
   ]
  },
  {
   "cell_type": "markdown",
   "id": "b40bace9-1f6d-49da-b17a-a11147ac9767",
   "metadata": {},
   "source": [
    "# 70.08 Соединение одномерных массивов"
   ]
  },
  {
   "cell_type": "code",
   "execution_count": 30,
   "id": "d2fbef80-1091-4454-9b26-0619e8099e50",
   "metadata": {},
   "outputs": [
    {
     "data": {
      "text/plain": [
       "array([1, 2, 3, 4, 5, 6, 7, 8])"
      ]
     },
     "execution_count": 30,
     "metadata": {},
     "output_type": "execute_result"
    }
   ],
   "source": [
    "# у одномерных массивов только одна ось - ось 0\n",
    "np.concatenate((np.array([1,2,3,4]), np.array([5,6,7,8])))"
   ]
  },
  {
   "cell_type": "code",
   "execution_count": 31,
   "id": "6cb51823-187b-4ecc-99ca-b7d96d8a5948",
   "metadata": {},
   "outputs": [
    {
     "ename": "AxisError",
     "evalue": "axis 1 is out of bounds for array of dimension 1",
     "output_type": "error",
     "traceback": [
      "\u001b[1;31m---------------------------------------------------------------------------\u001b[0m",
      "\u001b[1;31mAxisError\u001b[0m                                 Traceback (most recent call last)",
      "Cell \u001b[1;32mIn[31], line 3\u001b[0m\n\u001b[0;32m      1\u001b[0m \u001b[38;5;66;03m# по оси 1 - не получится!\u001b[39;00m\n\u001b[0;32m      2\u001b[0m \u001b[38;5;66;03m# ибо у них нет оси 1\u001b[39;00m\n\u001b[1;32m----> 3\u001b[0m np\u001b[38;5;241m.\u001b[39mconcatenate((np\u001b[38;5;241m.\u001b[39marray([\u001b[38;5;241m1\u001b[39m,\u001b[38;5;241m2\u001b[39m,\u001b[38;5;241m3\u001b[39m,\u001b[38;5;241m4\u001b[39m]), np\u001b[38;5;241m.\u001b[39marray([\u001b[38;5;241m5\u001b[39m,\u001b[38;5;241m6\u001b[39m,\u001b[38;5;241m7\u001b[39m,\u001b[38;5;241m8\u001b[39m])), axis\u001b[38;5;241m=\u001b[39m\u001b[38;5;241m1\u001b[39m)\n",
      "\u001b[1;31mAxisError\u001b[0m: axis 1 is out of bounds for array of dimension 1"
     ]
    }
   ],
   "source": [
    "# по оси 1 - не получится!\n",
    "# ибо у них нет оси 1\n",
    "np.concatenate((np.array([1,2,3,4]), np.array([5,6,7,8])), axis=1)"
   ]
  },
  {
   "cell_type": "markdown",
   "id": "6f32eb85-5f96-4c8f-9c16-af308a8b7a96",
   "metadata": {},
   "source": [
    "# 70.09 Заполнение массива нулями и единицами"
   ]
  },
  {
   "cell_type": "markdown",
   "id": "2d40d9f4-b29a-449b-967d-2b8baeefebf2",
   "metadata": {},
   "source": [
    "## Заполняем нулями"
   ]
  },
  {
   "cell_type": "code",
   "execution_count": 32,
   "id": "2c34da2a-2285-42b6-af9b-7cde7afe7ab9",
   "metadata": {},
   "outputs": [
    {
     "data": {
      "text/plain": [
       "array([[0., 0., 0., 0.],\n",
       "       [0., 0., 0., 0.],\n",
       "       [0., 0., 0., 0.]])"
      ]
     },
     "execution_count": 32,
     "metadata": {},
     "output_type": "execute_result"
    }
   ],
   "source": [
    "# строки - столбцы\n",
    "np.zeros((3,4))"
   ]
  },
  {
   "cell_type": "code",
   "execution_count": 33,
   "id": "76647001-3a74-46b9-8d26-8863fcf514dc",
   "metadata": {},
   "outputs": [
    {
     "data": {
      "text/plain": [
       "array([[[0., 0.],\n",
       "        [0., 0.],\n",
       "        [0., 0.],\n",
       "        [0., 0.]],\n",
       "\n",
       "       [[0., 0.],\n",
       "        [0., 0.],\n",
       "        [0., 0.],\n",
       "        [0., 0.]],\n",
       "\n",
       "       [[0., 0.],\n",
       "        [0., 0.],\n",
       "        [0., 0.],\n",
       "        [0., 0.]]])"
      ]
     },
     "execution_count": 33,
     "metadata": {},
     "output_type": "execute_result"
    }
   ],
   "source": [
    "# строки - столбцы - ряд\n",
    "np.zeros((3,4,2))"
   ]
  },
  {
   "cell_type": "code",
   "execution_count": 34,
   "id": "8922aaf7-6801-432f-b2e2-5757c61dca64",
   "metadata": {},
   "outputs": [
    {
     "data": {
      "text/plain": [
       "array([[0, 0, 0, 0],\n",
       "       [0, 0, 0, 0],\n",
       "       [0, 0, 0, 0]])"
      ]
     },
     "execution_count": 34,
     "metadata": {},
     "output_type": "execute_result"
    }
   ],
   "source": [
    "# заполним интами\n",
    "np.zeros((3,4), dtype=int)"
   ]
  },
  {
   "cell_type": "code",
   "execution_count": 35,
   "id": "9f00f342-5cb1-411d-9e5a-5450b43a5f63",
   "metadata": {},
   "outputs": [
    {
     "data": {
      "text/plain": [
       "array([[False, False, False, False],\n",
       "       [False, False, False, False],\n",
       "       [False, False, False, False]])"
      ]
     },
     "execution_count": 35,
     "metadata": {},
     "output_type": "execute_result"
    }
   ],
   "source": [
    "# заполним boolean\n",
    "np.zeros((3,4), dtype=bool)"
   ]
  },
  {
   "cell_type": "code",
   "execution_count": 36,
   "id": "b88f3f0c-4ebc-41c0-ab5f-f796c73a9dce",
   "metadata": {},
   "outputs": [
    {
     "data": {
      "text/plain": [
       "array([['', '', '', ''],\n",
       "       ['', '', '', ''],\n",
       "       ['', '', '', '']], dtype='<U1')"
      ]
     },
     "execution_count": 36,
     "metadata": {},
     "output_type": "execute_result"
    }
   ],
   "source": [
    "# заполним строками\n",
    "np.zeros((3,4), dtype=str)"
   ]
  },
  {
   "cell_type": "markdown",
   "id": "783fd62a-169c-4c92-8a83-b527bfdb06bd",
   "metadata": {},
   "source": [
    "## Заполняем единицами"
   ]
  },
  {
   "cell_type": "code",
   "execution_count": 37,
   "id": "82e11233-4e44-4a3b-8e13-c463fe4065ba",
   "metadata": {},
   "outputs": [
    {
     "data": {
      "text/plain": [
       "array([[1., 1., 1., 1.],\n",
       "       [1., 1., 1., 1.],\n",
       "       [1., 1., 1., 1.]])"
      ]
     },
     "execution_count": 37,
     "metadata": {},
     "output_type": "execute_result"
    }
   ],
   "source": [
    "np.ones((3,4))"
   ]
  },
  {
   "cell_type": "code",
   "execution_count": 38,
   "id": "30d01d43-ad4c-4cfc-ab63-8a2474317c70",
   "metadata": {},
   "outputs": [
    {
     "data": {
      "text/plain": [
       "array([[1, 1, 1, 1],\n",
       "       [1, 1, 1, 1],\n",
       "       [1, 1, 1, 1]])"
      ]
     },
     "execution_count": 38,
     "metadata": {},
     "output_type": "execute_result"
    }
   ],
   "source": [
    "np.ones((3,4), dtype=int)"
   ]
  },
  {
   "cell_type": "code",
   "execution_count": 39,
   "id": "eaa40822-17db-4d7d-b8e6-2976c0d43a10",
   "metadata": {},
   "outputs": [
    {
     "data": {
      "text/plain": [
       "array([['1', '1', '1', '1'],\n",
       "       ['1', '1', '1', '1'],\n",
       "       ['1', '1', '1', '1']], dtype='<U1')"
      ]
     },
     "execution_count": 39,
     "metadata": {},
     "output_type": "execute_result"
    }
   ],
   "source": [
    "np.ones((3,4), dtype=str)"
   ]
  },
  {
   "cell_type": "code",
   "execution_count": 40,
   "id": "535a939c-57a3-442f-9162-305f16a80263",
   "metadata": {},
   "outputs": [
    {
     "data": {
      "text/plain": [
       "array([[ True,  True,  True,  True],\n",
       "       [ True,  True,  True,  True],\n",
       "       [ True,  True,  True,  True]])"
      ]
     },
     "execution_count": 40,
     "metadata": {},
     "output_type": "execute_result"
    }
   ],
   "source": [
    "np.ones((3,4), dtype=bool)"
   ]
  },
  {
   "cell_type": "markdown",
   "id": "5be164be-d9ce-4b40-9911-6d674c90baac",
   "metadata": {},
   "source": [
    "# 70.10 Модуль random для массивов NumPy"
   ]
  },
  {
   "cell_type": "code",
   "execution_count": 41,
   "id": "098a07f5-8741-4397-8722-fb8413db1f78",
   "metadata": {},
   "outputs": [
    {
     "data": {
      "text/plain": [
       "array([0.03870136, 0.34211944, 0.17080842, 0.99372455, 0.23822534])"
      ]
     },
     "execution_count": 41,
     "metadata": {},
     "output_type": "execute_result"
    }
   ],
   "source": [
    "np.random.random(5)"
   ]
  },
  {
   "cell_type": "code",
   "execution_count": 42,
   "id": "1fcf58bf-5077-412e-abf8-d923130df109",
   "metadata": {},
   "outputs": [
    {
     "data": {
      "text/plain": [
       "array([[0.64796163, 0.44278112, 0.46868659, 0.86552482],\n",
       "       [0.78929056, 0.3673727 , 0.13717647, 0.98907251]])"
      ]
     },
     "execution_count": 42,
     "metadata": {},
     "output_type": "execute_result"
    }
   ],
   "source": [
    "np.random.random((2,4))"
   ]
  },
  {
   "cell_type": "markdown",
   "id": "048ebee0-ec65-4026-882f-350eb17ea2cb",
   "metadata": {},
   "source": [
    "# 70.11 Псевдо случайные числа"
   ]
  },
  {
   "cell_type": "code",
   "execution_count": 43,
   "id": "64a857dd-3d25-4e07-8d09-fc2d33694ecd",
   "metadata": {},
   "outputs": [
    {
     "data": {
      "text/plain": [
       "array([[0.5488135 , 0.71518937, 0.60276338, 0.54488318],\n",
       "       [0.4236548 , 0.64589411, 0.43758721, 0.891773  ]])"
      ]
     },
     "execution_count": 43,
     "metadata": {},
     "output_type": "execute_result"
    }
   ],
   "source": [
    "np.random.seed(0)\n",
    "np.random.random((2,4))"
   ]
  },
  {
   "cell_type": "code",
   "execution_count": 44,
   "id": "d604cf6e-ce02-4ddc-9ef3-e08a964aa2e3",
   "metadata": {},
   "outputs": [
    {
     "data": {
      "text/plain": [
       "array([[0.77132064, 0.02075195, 0.63364823, 0.74880388],\n",
       "       [0.49850701, 0.22479665, 0.19806286, 0.76053071]])"
      ]
     },
     "execution_count": 44,
     "metadata": {},
     "output_type": "execute_result"
    }
   ],
   "source": [
    "np.random.seed(10)\n",
    "np.random.random((2,4))"
   ]
  },
  {
   "cell_type": "code",
   "execution_count": 45,
   "id": "3ff8eee7-deb1-408d-9d18-ff5c1d4d1c2a",
   "metadata": {},
   "outputs": [
    {
     "data": {
      "text/plain": [
       "array([[0.5488135 , 0.71518937, 0.60276338, 0.54488318],\n",
       "       [0.4236548 , 0.64589411, 0.43758721, 0.891773  ]])"
      ]
     },
     "execution_count": 45,
     "metadata": {},
     "output_type": "execute_result"
    }
   ],
   "source": [
    "np.random.seed(0)\n",
    "np.random.random((2,4))"
   ]
  },
  {
   "cell_type": "markdown",
   "id": "837ddf06-2595-46ab-9a36-269f74763050",
   "metadata": {},
   "source": [
    "# 70.12 Методы randint, uniform и choice"
   ]
  },
  {
   "cell_type": "code",
   "execution_count": 48,
   "id": "96ebb5b6-b80d-45fc-b621-9c34c2c09f89",
   "metadata": {},
   "outputs": [
    {
     "data": {
      "text/plain": [
       "array([[18, 19, 14, 13],\n",
       "       [10, 13, 15, 10]])"
      ]
     },
     "execution_count": 48,
     "metadata": {},
     "output_type": "execute_result"
    }
   ],
   "source": [
    "np.random.randint(10, 20, size=(2,4))"
   ]
  },
  {
   "cell_type": "code",
   "execution_count": 49,
   "id": "567d8596-25be-4d63-ba6a-e95af4761898",
   "metadata": {},
   "outputs": [
    {
     "data": {
      "text/plain": [
       "array([[18, 15, 15, 17],\n",
       "       [10, 17, 15, 16]])"
      ]
     },
     "execution_count": 49,
     "metadata": {},
     "output_type": "execute_result"
    }
   ],
   "source": [
    "np.random.seed(15)\n",
    "np.random.randint(10, 20, size=(2,4))"
   ]
  },
  {
   "cell_type": "code",
   "execution_count": 54,
   "id": "4e1f1e8b-80d8-4f4b-8709-0adc0a55c442",
   "metadata": {},
   "outputs": [
    {
     "data": {
      "text/plain": [
       "array([[0.77132064, 0.02075195, 0.63364823, 0.74880388, 0.49850701],\n",
       "       [0.22479665, 0.19806286, 0.76053071, 0.16911084, 0.08833981],\n",
       "       [0.68535982, 0.95339335, 0.00394827, 0.51219226, 0.81262096]])"
      ]
     },
     "execution_count": 54,
     "metadata": {},
     "output_type": "execute_result"
    }
   ],
   "source": [
    "np.random.seed(10)\n",
    "np.random.random(size=(3,5))"
   ]
  },
  {
   "cell_type": "code",
   "execution_count": 53,
   "id": "6578363f-8be2-4199-a102-dc8da44a931d",
   "metadata": {},
   "outputs": [
    {
     "data": {
      "text/plain": [
       "array([[0.77132064, 0.02075195, 0.63364823, 0.74880388, 0.49850701],\n",
       "       [0.22479665, 0.19806286, 0.76053071, 0.16911084, 0.08833981],\n",
       "       [0.68535982, 0.95339335, 0.00394827, 0.51219226, 0.81262096]])"
      ]
     },
     "execution_count": 53,
     "metadata": {},
     "output_type": "execute_result"
    }
   ],
   "source": [
    "# same as random\n",
    "np.random.seed(10)\n",
    "np.random.uniform(size=(3,5))"
   ]
  },
  {
   "cell_type": "code",
   "execution_count": 56,
   "id": "7f77f924-4817-499a-89d4-143cd390acb2",
   "metadata": {},
   "outputs": [
    {
     "data": {
      "text/plain": [
       "array([[40.85282573, 10.83007797, 35.3459294 , 39.9521553 , 29.94028049],\n",
       "       [18.99186582, 17.92251459, 40.42122849, 16.76443346, 13.53359257],\n",
       "       [37.41439273, 48.13573385, 10.15793065, 30.48769054, 42.50483847]])"
      ]
     },
     "execution_count": 56,
     "metadata": {},
     "output_type": "execute_result"
    }
   ],
   "source": [
    "# я могу указать диапазон\n",
    "# uniform - любое значение внутри диапазона - равновероятно \n",
    "np.random.seed(10)\n",
    "np.random.uniform(10, 50, size=(3,5))"
   ]
  },
  {
   "cell_type": "code",
   "execution_count": 57,
   "id": "77145038-e024-47c9-b805-de01e31522b8",
   "metadata": {},
   "outputs": [
    {
     "data": {
      "text/plain": [
       "array([2, 2, 1, 1, 2, 1, 2, 2, 1, 2, 2, 3, 1, 2, 1, 3, 1, 3, 1, 1])"
      ]
     },
     "execution_count": 57,
     "metadata": {},
     "output_type": "execute_result"
    }
   ],
   "source": [
    "# выбор элементов из массива\n",
    "np.random.seed(10)\n",
    "np.random.choice(np.array([1,2,3]), size=20)"
   ]
  },
  {
   "cell_type": "code",
   "execution_count": 58,
   "id": "cbeeaaca-7353-4cec-b32c-c5c2a1dc3d79",
   "metadata": {},
   "outputs": [
    {
     "data": {
      "text/plain": [
       "array([[2, 2, 1, 1],\n",
       "       [2, 1, 2, 2],\n",
       "       [1, 2, 2, 3]])"
      ]
     },
     "execution_count": 58,
     "metadata": {},
     "output_type": "execute_result"
    }
   ],
   "source": [
    "np.random.seed(10)\n",
    "np.random.choice(np.array([1,2,3]), size=(3,4))"
   ]
  },
  {
   "cell_type": "markdown",
   "id": "a5046025-f0ba-4e10-a557-f44a0d4c2c20",
   "metadata": {},
   "source": [
    "# 70.13 Методы arange и reshape"
   ]
  },
  {
   "cell_type": "code",
   "execution_count": 68,
   "id": "0aa6768c-b452-4d8a-a6f4-96bbf228f6c1",
   "metadata": {},
   "outputs": [
    {
     "name": "stdout",
     "output_type": "stream",
     "text": [
      "np.arange(10): [0 1 2 3 4 5 6 7 8 9]\n",
      "np.arange(10.5): [ 0.  1.  2.  3.  4.  5.  6.  7.  8.  9. 10.]\n",
      "np.arange(15,25): [15 16 17 18 19 20 21 22 23 24]\n",
      "np.arange(20,30,3): [20 23 26 29]\n",
      "np.arange(-20,30,5): [-20 -15 -10  -5   0   5  10  15  20  25]\n",
      "np.arange(-20,30,5): [-20 -15 -10  -5   0   5  10  15  20  25]\n"
     ]
    }
   ],
   "source": [
    "print('np.arange(10):', np.arange(10))\n",
    "print('np.arange(10.5):', np.arange(10.5))\n",
    "print('np.arange(15,25):', np.arange(15,25))\n",
    "print('np.arange(20,30,3):', np.arange(20,30,3))\n",
    "print('np.arange(-20,30,5):', np.arange(-20,30,5))\n",
    "print('np.arange(-20,30,5):', np.arange(start=-20,stop=30,step=5))"
   ]
  },
  {
   "cell_type": "code",
   "execution_count": 81,
   "id": "54b03d4f-9b1d-4411-97df-6b21cd291337",
   "metadata": {},
   "outputs": [
    {
     "name": "stdout",
     "output_type": "stream",
     "text": [
      "Исходный:  [ 0  1  2  3  4  5  6  7  8  9 10 11 12 13 14 15 16 17 18 19]\n",
      "\n",
      "reshape([2,10]:\n",
      "  [[ 0  1  2  3  4  5  6  7  8  9]\n",
      " [10 11 12 13 14 15 16 17 18 19]]\n",
      "\n",
      "reshape([2,2,5]:\n",
      "  [[[ 0  1  2  3  4]\n",
      "  [ 5  6  7  8  9]]\n",
      "\n",
      " [[10 11 12 13 14]\n",
      "  [15 16 17 18 19]]]\n",
      "\n",
      "reshape([4,5]:\n",
      "  [[ 0  1  2  3  4]\n",
      " [ 5  6  7  8  9]\n",
      " [10 11 12 13 14]\n",
      " [15 16 17 18 19]]\n"
     ]
    }
   ],
   "source": [
    "print('Исходный: ', np.arange(20))\n",
    "print('\\nreshape([2,10]:\\n ', np.arange(20).reshape([2,10]))\n",
    "print('\\nreshape([2,2,5]:\\n ', np.arange(20).reshape([2,2,5]))\n",
    "print('\\nreshape([4,5]:\\n ', np.arange(20).reshape([4,5]))"
   ]
  },
  {
   "cell_type": "code",
   "execution_count": 84,
   "id": "18fc0549-1226-4a62-b65b-7b34db82dec4",
   "metadata": {},
   "outputs": [
    {
     "data": {
      "text/plain": [
       "array([[0.51313824, 0.65039718],\n",
       "       [0.60103895, 0.8052232 ],\n",
       "       [0.52164715, 0.90864888],\n",
       "       [0.31923609, 0.09045935],\n",
       "       [0.30070006, 0.11398436]])"
      ]
     },
     "execution_count": 84,
     "metadata": {},
     "output_type": "execute_result"
    }
   ],
   "source": [
    "np.random.random((10,)).reshape([5,2])"
   ]
  },
  {
   "cell_type": "code",
   "execution_count": 86,
   "id": "b3a0bba7-d489-492b-b854-690d257e47ab",
   "metadata": {},
   "outputs": [
    {
     "data": {
      "text/plain": [
       "array([[0.88393648, 0.32551164],\n",
       "       [0.1650159 , 0.39252924],\n",
       "       [0.09346037, 0.82110566],\n",
       "       [0.15115202, 0.38411445],\n",
       "       [0.94426071, 0.98762547]])"
      ]
     },
     "execution_count": 86,
     "metadata": {},
     "output_type": "execute_result"
    }
   ],
   "source": [
    "# можно использовать кортеж\n",
    "np.random.random((10,)).reshape((5,2))"
   ]
  },
  {
   "cell_type": "markdown",
   "id": "3a59ffc9-e5ba-4927-ba2e-de1004688342",
   "metadata": {},
   "source": [
    "# 70.14 Метод flatten для трансформации в одномерный массив"
   ]
  },
  {
   "cell_type": "code",
   "execution_count": 87,
   "id": "38262537-a3e6-4571-959e-d8d7d0a9a877",
   "metadata": {},
   "outputs": [
    {
     "data": {
      "text/plain": [
       "array([[[59, 79, 54],\n",
       "        [65, 50, 67],\n",
       "        [77, 78, 75]],\n",
       "\n",
       "       [[79, 66, 79],\n",
       "        [67, 76, 58],\n",
       "        [59, 50, 60]],\n",
       "\n",
       "       [[58, 72, 54],\n",
       "        [69, 66, 54],\n",
       "        [65, 61, 72]],\n",
       "\n",
       "       [[74, 61, 76],\n",
       "        [51, 58, 54],\n",
       "        [64, 67, 69]]])"
      ]
     },
     "execution_count": 87,
     "metadata": {},
     "output_type": "execute_result"
    }
   ],
   "source": [
    "np.random.seed(10)\n",
    "np.random.randint(50,80,(4,3,3))"
   ]
  },
  {
   "cell_type": "code",
   "execution_count": 89,
   "id": "c9b03fb0-895b-432d-8006-106a7c917c74",
   "metadata": {},
   "outputs": [
    {
     "data": {
      "text/plain": [
       "array([59, 79, 54, 65, 50, 67, 77, 78, 75, 79, 66, 79, 67, 76, 58, 59, 50,\n",
       "       60, 58, 72, 54, 69, 66, 54, 65, 61, 72, 74, 61, 76, 51, 58, 54, 64,\n",
       "       67, 69])"
      ]
     },
     "execution_count": 89,
     "metadata": {},
     "output_type": "execute_result"
    }
   ],
   "source": [
    "# получаю одномерный массив из многомерного\n",
    "np.random.seed(10)\n",
    "np.random.randint(50,80,(4,3,3)).flatten()"
   ]
  },
  {
   "cell_type": "code",
   "execution_count": 95,
   "id": "5b63c645-ce8c-4a19-b05b-7d1c01686d1c",
   "metadata": {},
   "outputs": [
    {
     "name": "stdout",
     "output_type": "stream",
     "text": [
      "[[ 0  1  2  3]\n",
      " [ 4  5  6  7]\n",
      " [ 8  9 10 11]]\n",
      "[ 0  1  2  3  4  5  6  7  8  9 10 11]\n"
     ]
    }
   ],
   "source": [
    "print(np.arange(12).reshape((3,4)))\n",
    "print(np.arange(12).reshape((3,4)).flatten())"
   ]
  },
  {
   "cell_type": "markdown",
   "id": "ef25ca6b-359c-4036-a642-caf1d88e2ad7",
   "metadata": {},
   "source": [
    "# 70.15 Одномерные массивы в NumPy - Примеры 1, 2"
   ]
  },
  {
   "cell_type": "markdown",
   "id": "0a789de1-9d3c-400b-bfa9-ec1df78271d3",
   "metadata": {},
   "source": [
    "## 1. Calculating total revenue"
   ]
  },
  {
   "cell_type": "code",
   "execution_count": 107,
   "id": "45175a23-631f-436b-ab4b-614372352671",
   "metadata": {},
   "outputs": [
    {
     "data": {
      "text/plain": [
       "array([19.99, 29.99, 14.99,  9.99, 24.99])"
      ]
     },
     "execution_count": 107,
     "metadata": {},
     "output_type": "execute_result"
    }
   ],
   "source": [
    "prices = np.array([19.99, 29.99, 14.99, 9.99, 24.99])\n",
    "prices"
   ]
  },
  {
   "cell_type": "code",
   "execution_count": 108,
   "id": "a087abe6-defe-45d3-87e9-1d45df2f1dac",
   "metadata": {},
   "outputs": [
    {
     "data": {
      "text/plain": [
       "array([10,  5,  8, 12,  3])"
      ]
     },
     "execution_count": 108,
     "metadata": {},
     "output_type": "execute_result"
    }
   ],
   "source": [
    "quantities = np.array([10,5,8,12,3])\n",
    "quantities"
   ]
  },
  {
   "cell_type": "code",
   "execution_count": 109,
   "id": "0674b2f8-7128-41dd-b77b-e9f86aa61bbe",
   "metadata": {},
   "outputs": [
    {
     "data": {
      "text/plain": [
       "array([199.9 , 149.95, 119.92, 119.88,  74.97])"
      ]
     },
     "execution_count": 109,
     "metadata": {},
     "output_type": "execute_result"
    }
   ],
   "source": [
    "revenue_per_product = prices * quantities\n",
    "revenue_per_product"
   ]
  },
  {
   "cell_type": "code",
   "execution_count": 110,
   "id": "e40532e9-b408-4c5c-84a7-d831063dcfd4",
   "metadata": {},
   "outputs": [
    {
     "data": {
      "text/plain": [
       "664.62"
      ]
     },
     "execution_count": 110,
     "metadata": {},
     "output_type": "execute_result"
    }
   ],
   "source": [
    "total_revenue = np.sum(revenue_per_product)\n",
    "total_revenue"
   ]
  },
  {
   "cell_type": "markdown",
   "id": "869cec77-ef96-4918-b5b6-fe865bc1c1a3",
   "metadata": {},
   "source": [
    "## 2. Analyzing Blog Post Stats"
   ]
  },
  {
   "cell_type": "code",
   "execution_count": 100,
   "id": "d5d39f0f-c473-442d-9365-708ce5c0e172",
   "metadata": {},
   "outputs": [
    {
     "data": {
      "text/plain": [
       "array([1000,  500,  800, 1200,  300,  600])"
      ]
     },
     "execution_count": 100,
     "metadata": {},
     "output_type": "execute_result"
    }
   ],
   "source": [
    "views = np.array([1000, 500, 800, 1200, 300, 600])\n",
    "views"
   ]
  },
  {
   "cell_type": "code",
   "execution_count": 102,
   "id": "d01bc57e-b344-49d3-9f3a-3fbf52ca1d07",
   "metadata": {},
   "outputs": [
    {
     "data": {
      "text/plain": [
       "1200"
      ]
     },
     "execution_count": 102,
     "metadata": {},
     "output_type": "execute_result"
    }
   ],
   "source": [
    "max_views = np.max(views)\n",
    "max_views"
   ]
  },
  {
   "cell_type": "code",
   "execution_count": 103,
   "id": "a69987d1-adae-42fe-973b-9fc95c1d5d31",
   "metadata": {},
   "outputs": [
    {
     "data": {
      "text/plain": [
       "300"
      ]
     },
     "execution_count": 103,
     "metadata": {},
     "output_type": "execute_result"
    }
   ],
   "source": [
    "min_views = np.min(views)\n",
    "min_views"
   ]
  },
  {
   "cell_type": "code",
   "execution_count": 104,
   "id": "4582f4ea-ce4b-4f10-b435-b0a945e48a8a",
   "metadata": {},
   "outputs": [
    {
     "data": {
      "text/plain": [
       "733.3333333333334"
      ]
     },
     "execution_count": 104,
     "metadata": {},
     "output_type": "execute_result"
    }
   ],
   "source": [
    "avg_views = np.mean(views)\n",
    "avg_views"
   ]
  },
  {
   "cell_type": "code",
   "execution_count": 105,
   "id": "9c6db54e-d0d1-411e-b205-af38cd37dc03",
   "metadata": {},
   "outputs": [
    {
     "data": {
      "text/plain": [
       "733.33"
      ]
     },
     "execution_count": 105,
     "metadata": {},
     "output_type": "execute_result"
    }
   ],
   "source": [
    "avg_views = np.round(np.mean(views),2)\n",
    "avg_views"
   ]
  },
  {
   "cell_type": "code",
   "execution_count": 106,
   "id": "9456fb5d-bb99-4921-9b25-3b41fe0ebf8c",
   "metadata": {},
   "outputs": [
    {
     "data": {
      "text/plain": [
       "4400"
      ]
     },
     "execution_count": 106,
     "metadata": {},
     "output_type": "execute_result"
    }
   ],
   "source": [
    "total_views = np.sum(views)\n",
    "total_views"
   ]
  },
  {
   "cell_type": "markdown",
   "id": "788744b2-a3de-4b56-a1b8-409ca17c2c44",
   "metadata": {},
   "source": [
    "# 70.16 Одномерные массивы в NumPy - Примеры 3, 4"
   ]
  },
  {
   "cell_type": "markdown",
   "id": "f9cee30a-4dd1-432e-bd0b-e6ff4a79779b",
   "metadata": {},
   "source": [
    "## 3. Splitting Order into Batches"
   ]
  },
  {
   "cell_type": "code",
   "execution_count": 129,
   "id": "78713df5-97f6-4629-998d-73f8cdd0f1d1",
   "metadata": {},
   "outputs": [
    {
     "data": {
      "text/plain": [
       "array([1001, 1002, 1003, 1004, 1005, 1006, 1007, 1008, 1009])"
      ]
     },
     "execution_count": 129,
     "metadata": {},
     "output_type": "execute_result"
    }
   ],
   "source": [
    "order_ids = np.array([1001, 1002, 1003, 1004, 1005, 1006, 1007, 1008, 1009])\n",
    "order_ids"
   ]
  },
  {
   "cell_type": "code",
   "execution_count": 130,
   "id": "bb018358-fb4f-4b03-9830-3f1831701000",
   "metadata": {},
   "outputs": [
    {
     "data": {
      "text/plain": [
       "[array([1001, 1002, 1003]),\n",
       " array([1004, 1005, 1006]),\n",
       " array([1007, 1008, 1009])]"
      ]
     },
     "execution_count": 130,
     "metadata": {},
     "output_type": "execute_result"
    }
   ],
   "source": [
    "batches = np.split(order_ids, 3)\n",
    "batches"
   ]
  },
  {
   "cell_type": "code",
   "execution_count": 131,
   "id": "0712997f-294f-46eb-8bad-6d502f29b000",
   "metadata": {},
   "outputs": [
    {
     "name": "stdout",
     "output_type": "stream",
     "text": [
      "[1001 1002 1003]\n",
      "[1004 1005 1006]\n",
      "[1007 1008 1009]\n"
     ]
    }
   ],
   "source": [
    "for batch in batches:\n",
    "    print(batch)"
   ]
  },
  {
   "cell_type": "code",
   "execution_count": 132,
   "id": "b35101b8-df25-4b9e-a4a4-12826e16d32e",
   "metadata": {},
   "outputs": [
    {
     "name": "stdout",
     "output_type": "stream",
     "text": [
      "Firt element in the batch: 1001\n",
      "Second element in the batch: 1002\n",
      "Firt element in the batch: 1004\n",
      "Second element in the batch: 1005\n",
      "Firt element in the batch: 1007\n",
      "Second element in the batch: 1008\n"
     ]
    }
   ],
   "source": [
    "for batch in batches:\n",
    "    print('Firt element in the batch:', batch[0])\n",
    "    print('Second element in the batch:', batch[1])"
   ]
  },
  {
   "cell_type": "code",
   "execution_count": 133,
   "id": "72959e62-94a7-4b5b-83ee-881ae5e41975",
   "metadata": {},
   "outputs": [
    {
     "name": "stdout",
     "output_type": "stream",
     "text": [
      "Batch number: 0\n",
      "Firt element in the batch: 1001\n",
      "Second element in the batch: 1002\n",
      "\n",
      "Batch number: 1\n",
      "Firt element in the batch: 1004\n",
      "Second element in the batch: 1005\n",
      "\n",
      "Batch number: 2\n",
      "Firt element in the batch: 1007\n",
      "Second element in the batch: 1008\n",
      "\n"
     ]
    }
   ],
   "source": [
    "for i, batch in enumerate(batches):\n",
    "    print(f'Batch number: {i}')\n",
    "    print('Firt element in the batch:', batch[0])\n",
    "    print( 'Second element in the batch:', batch[1])\n",
    "    print('')"
   ]
  },
  {
   "cell_type": "markdown",
   "id": "dffc3b34-b731-4e20-a5b0-35b780fce756",
   "metadata": {},
   "source": [
    "## 4. Categorizing Product Ratings"
   ]
  },
  {
   "cell_type": "code",
   "execution_count": 134,
   "id": "5be9ffa4-03c0-46a2-bd1c-8dba368b2624",
   "metadata": {},
   "outputs": [
    {
     "data": {
      "text/plain": [
       "array([4.5, 3.2, 2.8, 5. , 4.1, 3.9, 2.5, 4.7])"
      ]
     },
     "execution_count": 134,
     "metadata": {},
     "output_type": "execute_result"
    }
   ],
   "source": [
    "ratings = np.array([4.5, 3.2, 2.8, 5.0, 4.1, 3.9, 2.5, 4.7])\n",
    "ratings"
   ]
  },
  {
   "cell_type": "code",
   "execution_count": 135,
   "id": "f5ec827d-fb6d-48f0-905a-24568876278c",
   "metadata": {},
   "outputs": [
    {
     "data": {
      "text/plain": [
       "array([4.5, 5. , 4.1, 4.7])"
      ]
     },
     "execution_count": 135,
     "metadata": {},
     "output_type": "execute_result"
    }
   ],
   "source": [
    "# разбиваем массив на два массива:\n",
    "# в одном плохие рейтинги, в другом - хорошие\n",
    "positive_ratings = ratings[ratings >= 4.0]\n",
    "positive_ratings"
   ]
  },
  {
   "cell_type": "code",
   "execution_count": 136,
   "id": "04e14351-150c-4a74-948e-b0ea82dbf1b9",
   "metadata": {},
   "outputs": [
    {
     "data": {
      "text/plain": [
       "array([3.2, 2.8, 3.9, 2.5])"
      ]
     },
     "execution_count": 136,
     "metadata": {},
     "output_type": "execute_result"
    }
   ],
   "source": [
    "negative_ratings = ratings[ratings < 4.0]\n",
    "negative_ratings"
   ]
  },
  {
   "cell_type": "markdown",
   "id": "37261a16-398c-47dd-b250-b68ba031ebdd",
   "metadata": {},
   "source": [
    "# 70.17 Двухмерные массивы в NumPy - Пример 5"
   ]
  },
  {
   "cell_type": "markdown",
   "id": "9ad1eb42-5af8-4089-9713-b8b2e3a47a53",
   "metadata": {},
   "source": [
    "## 5.Calculate Total and Average quantities sold"
   ]
  },
  {
   "cell_type": "code",
   "execution_count": 140,
   "id": "df48ca9c-d35e-482c-aac5-6779044484fe",
   "metadata": {},
   "outputs": [
    {
     "data": {
      "text/plain": [
       "array([[ 5,  3,  2,  7],\n",
       "       [10,  6,  3,  9]])"
      ]
     },
     "execution_count": 140,
     "metadata": {},
     "output_type": "execute_result"
    }
   ],
   "source": [
    "# Each column is specific product: 4 товара\n",
    "# Each row is specific order: 2 заказа\n",
    "order_quantities = np.array([[5,3,2,7], [10,6,3,9]])\n",
    "order_quantities"
   ]
  },
  {
   "cell_type": "code",
   "execution_count": 141,
   "id": "0d7e0249-3fc6-4206-9391-3a9719c8fbff",
   "metadata": {},
   "outputs": [
    {
     "data": {
      "text/plain": [
       "45"
      ]
     },
     "execution_count": 141,
     "metadata": {},
     "output_type": "execute_result"
    }
   ],
   "source": [
    "# без указания оси - получим сумму всех элементов\n",
    "total_quantities_sold = np.sum(order_quantities)\n",
    "total_quantities_sold"
   ]
  },
  {
   "cell_type": "code",
   "execution_count": 142,
   "id": "72681f47-717d-4092-ab0c-e74556a06851",
   "metadata": {},
   "outputs": [
    {
     "data": {
      "text/plain": [
       "array([15,  9,  5, 16])"
      ]
     },
     "execution_count": 142,
     "metadata": {},
     "output_type": "execute_result"
    }
   ],
   "source": [
    "# нужно указать - по какой оси будем суммировать\n",
    "# мы хотим суммировать по оси 0\n",
    "# получим сумму по колонкам\n",
    "total_quantities_sold = np.sum(order_quantities, axis=0)\n",
    "total_quantities_sold"
   ]
  },
  {
   "cell_type": "code",
   "execution_count": 145,
   "id": "502758a3-1d23-4216-828a-ad8d6d077187",
   "metadata": {},
   "outputs": [
    {
     "data": {
      "text/plain": [
       "array([17, 28])"
      ]
     },
     "execution_count": 145,
     "metadata": {},
     "output_type": "execute_result"
    }
   ],
   "source": [
    "# нужно указать - по какой оси будем суммировать\n",
    "# мы хотим суммировать по оси 1\n",
    "# получим сумму по строкам\n",
    "total_products_per_order = np.sum(order_quantities, axis=1)\n",
    "total_products_per_order"
   ]
  },
  {
   "cell_type": "code",
   "execution_count": 148,
   "id": "d004ccf4-cb94-41c0-8938-21e5349dfcfb",
   "metadata": {},
   "outputs": [
    {
     "data": {
      "text/plain": [
       "array([7.5, 4.5, 2.5, 8. ])"
      ]
     },
     "execution_count": 148,
     "metadata": {},
     "output_type": "execute_result"
    }
   ],
   "source": [
    "# среднее колво товаров проданных по всем заказам\n",
    "average_quantities_sold = np.mean(order_quantities, axis=0)\n",
    "average_quantities_sold"
   ]
  },
  {
   "cell_type": "markdown",
   "id": "5938cd4b-4377-4e2e-9b6a-df57707fc011",
   "metadata": {},
   "source": [
    "# 70.18 Двухмерные массивы в NumPy - Пример 6"
   ]
  },
  {
   "cell_type": "markdown",
   "id": "11a061a9-b26e-4ade-ade9-eb8a04f8eda0",
   "metadata": {},
   "source": [
    "## 6. Calculate Average product Rating and Maximum rating per Category"
   ]
  },
  {
   "cell_type": "code",
   "execution_count": 149,
   "id": "c5f93bf1-6f13-483c-9d9b-80dde137820d",
   "metadata": {},
   "outputs": [
    {
     "data": {
      "text/plain": [
       "array([[4.5, 3.2, 2.5, 5. ],\n",
       "       [4.3, 3.8, 1. , 4.8],\n",
       "       [2. , 3.6, 4.7, 0.5]])"
      ]
     },
     "execution_count": 149,
     "metadata": {},
     "output_type": "execute_result"
    }
   ],
   "source": [
    "# каждый ряд - отдельный товар\n",
    "# у каждого товара - по 4 оценки\n",
    "product_rating = np.array([\n",
    "    [4.5, 3.2, 2.5, 5.0],\n",
    "    [4.3, 3.8, 1.0, 4.8],\n",
    "    [2.0, 3.6, 4.7, 0.5],\n",
    "])\n",
    "product_rating"
   ]
  },
  {
   "cell_type": "code",
   "execution_count": 159,
   "id": "e23ec892-ddbd-463e-bee3-ed97d590f0f7",
   "metadata": {},
   "outputs": [
    {
     "data": {
      "text/plain": [
       "array([3.6       , 3.53333333, 2.73333333, 3.43333333])"
      ]
     },
     "execution_count": 159,
     "metadata": {},
     "output_type": "execute_result"
    }
   ],
   "source": [
    "# Cредний рейтинг по каждому товару\n",
    "average_rating_per_category = np.mean(product_rating, axis=0)\n",
    "average_rating_per_category"
   ]
  },
  {
   "cell_type": "code",
   "execution_count": 161,
   "id": "569bbab5-a79f-415e-b5d5-def4e79d74e8",
   "metadata": {},
   "outputs": [
    {
     "data": {
      "text/plain": [
       "array([3.8  , 3.475, 2.7  ])"
      ]
     },
     "execution_count": 161,
     "metadata": {},
     "output_type": "execute_result"
    }
   ],
   "source": [
    "# Средний рейтинг по каждой категории\n",
    "average_rating_per_product = np.mean(product_rating, axis=1)\n",
    "average_rating_per_product"
   ]
  },
  {
   "cell_type": "code",
   "execution_count": 162,
   "id": "26998a50-8131-45b3-884b-92f622da30ce",
   "metadata": {},
   "outputs": [
    {
     "data": {
      "text/plain": [
       "array([4.5, 3.8, 4.7, 5. ])"
      ]
     },
     "execution_count": 162,
     "metadata": {},
     "output_type": "execute_result"
    }
   ],
   "source": [
    "# Макс рейтинг в каждой категории\n",
    "max_rating_per_category = np.max(product_rating, axis=0)\n",
    "max_rating_per_category"
   ]
  },
  {
   "cell_type": "markdown",
   "id": "930c972b-662a-4a09-9858-e9307a32722a",
   "metadata": {},
   "source": [
    "# 70.19 Трехмерные массивы в NumPy - Пример 7"
   ]
  },
  {
   "cell_type": "markdown",
   "id": "3511b0fb-2836-41f0-a066-17c7897988dd",
   "metadata": {},
   "source": [
    "## 7. Generation of the sample stock data"
   ]
  },
  {
   "cell_type": "code",
   "execution_count": 170,
   "id": "b10ffea8-d276-434e-b362-0fa0008cf5da",
   "metadata": {},
   "outputs": [
    {
     "name": "stdout",
     "output_type": "stream",
     "text": [
      "stock_prices.shape: (3, 2, 4)\n"
     ]
    },
    {
     "data": {
      "text/plain": [
       "array([[[0.417, 0.72 , 0.   , 0.302],\n",
       "        [0.147, 0.092, 0.186, 0.346]],\n",
       "\n",
       "       [[0.397, 0.539, 0.419, 0.685],\n",
       "        [0.204, 0.878, 0.027, 0.67 ]],\n",
       "\n",
       "       [[0.417, 0.559, 0.14 , 0.198],\n",
       "        [0.801, 0.968, 0.313, 0.692]]])"
      ]
     },
     "execution_count": 170,
     "metadata": {},
     "output_type": "execute_result"
    }
   ],
   "source": [
    "companies = ['Google', 'Microsoft', 'Apple']\n",
    "days = ['Mon 1 April', 'Tue 2 April']\n",
    "price_types = ['Open', 'Close', 'High', 'Low']\n",
    "\n",
    "np.random.seed(1)\n",
    "stock_prices = np.round(np.random.random((len(companies), len(days), len(price_types))),3)\n",
    "print(\"stock_prices.shape:\", stock_prices.shape)\n",
    "stock_prices"
   ]
  },
  {
   "cell_type": "code",
   "execution_count": 178,
   "id": "aa928fee-edb6-4f01-9a0c-63656c7898b4",
   "metadata": {},
   "outputs": [
    {
     "name": "stdout",
     "output_type": "stream",
     "text": [
      "Stock prices for the Google\n",
      "Day: Mon 1 April\n",
      "Open Price: 0.417\n",
      "Close Price: 0.72\n",
      "High Price: 0.0\n",
      "Low Price: 0.302\n",
      "\n",
      "Day: Tue 2 April\n",
      "Open Price: 0.147\n",
      "Close Price: 0.092\n",
      "High Price: 0.186\n",
      "Low Price: 0.346\n",
      "\n",
      "------------------------------\n",
      "Stock prices for the Microsoft\n",
      "Day: Mon 1 April\n",
      "Open Price: 0.397\n",
      "Close Price: 0.539\n",
      "High Price: 0.419\n",
      "Low Price: 0.685\n",
      "\n",
      "Day: Tue 2 April\n",
      "Open Price: 0.204\n",
      "Close Price: 0.878\n",
      "High Price: 0.027\n",
      "Low Price: 0.67\n",
      "\n",
      "------------------------------\n",
      "Stock prices for the Apple\n",
      "Day: Mon 1 April\n",
      "Open Price: 0.417\n",
      "Close Price: 0.559\n",
      "High Price: 0.14\n",
      "Low Price: 0.198\n",
      "\n",
      "Day: Tue 2 April\n",
      "Open Price: 0.801\n",
      "Close Price: 0.968\n",
      "High Price: 0.313\n",
      "Low Price: 0.692\n",
      "\n",
      "------------------------------\n"
     ]
    }
   ],
   "source": [
    "for i, company in enumerate(companies):\n",
    "    print(f\"Stock prices for the {company}\")\n",
    "    for j, day in enumerate(days):\n",
    "        print(f\"Day: {day}\")\n",
    "        for k, price_type in enumerate(price_types):\n",
    "            print(f\"{price_type} Price: {stock_prices[i, j, k]}\")\n",
    "        print(\"\")\n",
    "    print(10*\"---\")\n",
    "    "
   ]
  },
  {
   "cell_type": "code",
   "execution_count": 180,
   "id": "d6259e45-61de-4559-8a48-3ba9ad273b16",
   "metadata": {},
   "outputs": [
    {
     "name": "stdout",
     "output_type": "stream",
     "text": [
      "Stock prices for the Google\n",
      "Day: Mon 1 April\n",
      "Open Price: 0.417\n",
      "Close Price: 0.72\n",
      "High Price: 0.0\n",
      "Low Price: 0.302\n",
      "\n",
      "Day: Tue 2 April\n",
      "Open Price: 0.147\n",
      "Close Price: 0.092\n",
      "High Price: 0.186\n",
      "Low Price: 0.346\n",
      "\n",
      "------------------------------\n",
      "Stock prices for the Microsoft\n",
      "Day: Mon 1 April\n",
      "Open Price: 0.397\n",
      "Close Price: 0.539\n",
      "High Price: 0.419\n",
      "Low Price: 0.685\n",
      "\n",
      "Day: Tue 2 April\n",
      "Open Price: 0.204\n",
      "Close Price: 0.878\n",
      "High Price: 0.027\n",
      "Low Price: 0.67\n",
      "\n",
      "------------------------------\n",
      "Stock prices for the Apple\n",
      "Day: Mon 1 April\n",
      "Open Price: 0.417\n",
      "Close Price: 0.559\n",
      "High Price: 0.14\n",
      "Low Price: 0.198\n",
      "\n",
      "Day: Tue 2 April\n",
      "Open Price: 0.801\n",
      "Close Price: 0.968\n",
      "High Price: 0.313\n",
      "Low Price: 0.692\n",
      "\n",
      "------------------------------\n"
     ]
    }
   ],
   "source": [
    "# поменяем названия осей - для наглядности\n",
    "for index_axis_0, company in enumerate(companies):\n",
    "    print(f\"Stock prices for the {company}\")\n",
    "    for index_axis_1, day in enumerate(days):\n",
    "        print(f\"Day: {day}\")\n",
    "        for index_axis_2, price_type in enumerate(price_types):\n",
    "            print(f\"{price_type} Price: {stock_prices[index_axis_0, index_axis_1, index_axis_2]}\")\n",
    "        print(\"\")\n",
    "    print(10*\"---\")"
   ]
  },
  {
   "cell_type": "code",
   "execution_count": null,
   "id": "2b3f0e65-3e7c-4dde-ba54-7827459fbfdf",
   "metadata": {},
   "outputs": [],
   "source": []
  }
 ],
 "metadata": {
  "kernelspec": {
   "display_name": "Python 3 (ipykernel)",
   "language": "python",
   "name": "python3"
  },
  "language_info": {
   "codemirror_mode": {
    "name": "ipython",
    "version": 3
   },
   "file_extension": ".py",
   "mimetype": "text/x-python",
   "name": "python",
   "nbconvert_exporter": "python",
   "pygments_lexer": "ipython3",
   "version": "3.12.4"
  }
 },
 "nbformat": 4,
 "nbformat_minor": 5
}
