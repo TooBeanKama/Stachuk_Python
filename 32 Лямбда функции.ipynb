{
 "cells": [
  {
   "cell_type": "markdown",
   "id": "51da3f7f-f619-4c76-a98d-82febe7829b9",
   "metadata": {},
   "source": [
    "# 32 Лямбда функции"
   ]
  },
  {
   "cell_type": "markdown",
   "id": "d70cf252-4d37-4379-8003-5b96215a9d96",
   "metadata": {},
   "source": [
    "Синтаксис Лябда функции:\n",
    "\n",
    "lambda parameters: expression"
   ]
  },
  {
   "cell_type": "markdown",
   "id": "d79a1821-0412-495d-9357-91acf64bd7bc",
   "metadata": {},
   "source": [
    "## Сравнение синтаксиса двух функций"
   ]
  },
  {
   "cell_type": "code",
   "execution_count": 2,
   "id": "ab60055f-3ebc-4e78-bbf8-869c96a73fbb",
   "metadata": {},
   "outputs": [
    {
     "name": "stdout",
     "output_type": "stream",
     "text": [
      "50\n"
     ]
    }
   ],
   "source": [
    "# обычная функция\n",
    "def mult(a, b):\n",
    "    return a * b\n",
    "\n",
    "print(mult(10,5))"
   ]
  },
  {
   "cell_type": "code",
   "execution_count": 3,
   "id": "0b03f3e9-aa45-416c-94d8-c157b8c09df2",
   "metadata": {},
   "outputs": [
    {
     "name": "stdout",
     "output_type": "stream",
     "text": [
      "50\n"
     ]
    }
   ],
   "source": [
    "# lambda функция\n",
    "mult2 = lambda a, b: a * b\n",
    "print(mult2(10,5))"
   ]
  },
  {
   "cell_type": "code",
   "execution_count": null,
   "id": "71cf30d1-8277-441f-99f2-2542fbca7ae3",
   "metadata": {},
   "outputs": [],
   "source": [
    "def mult(a,b): return a * b"
   ]
  },
  {
   "cell_type": "markdown",
   "id": "e3db3f7a-2c98-49e2-a7c4-8a250a5adc70",
   "metadata": {},
   "source": [
    "## Где использовать лямбда-функции?"
   ]
  },
  {
   "cell_type": "code",
   "execution_count": 8,
   "id": "c09460b4-7f7b-4794-8c38-5e6530bad7d9",
   "metadata": {},
   "outputs": [
    {
     "name": "stdout",
     "output_type": "stream",
     "text": [
      "Good Morning, Alex\n",
      "Добрый вечер, Саша\n"
     ]
    }
   ],
   "source": [
    "def greeting(greet):\n",
    "    return lambda name: f\"{greet}, {name}\"\n",
    "\n",
    "morning_greeting = greeting(\"Good Morning\")\n",
    "print(morning_greeting(\"Alex\"))\n",
    "\n",
    "evening_greeting = greeting(\"Добрый вечер\")\n",
    "print(evening_greeting(\"Саша\"))"
   ]
  },
  {
   "cell_type": "code",
   "execution_count": 10,
   "id": "c1b9d27f-d8c6-4a5a-8559-b39c4e09bfa0",
   "metadata": {},
   "outputs": [
    {
     "name": "stdout",
     "output_type": "stream",
     "text": [
      "Добрый день, Вася\n"
     ]
    }
   ],
   "source": [
    "# эта конструкция аналогична следующей\n",
    "\n",
    "def greeting2(greet):\n",
    "    def info(name):\n",
    "        return f\"{greet}, {name}\"\n",
    "    return info\n",
    "\n",
    "noon_greeting = greeting2(\"Добрый день\")\n",
    "print(noon_greeting(\"Вася\"))"
   ]
  },
  {
   "cell_type": "code",
   "execution_count": null,
   "id": "11a70a1b-25ee-4565-9c7b-917075abf5b5",
   "metadata": {},
   "outputs": [],
   "source": []
  }
 ],
 "metadata": {
  "kernelspec": {
   "display_name": "Python 3 (ipykernel)",
   "language": "python",
   "name": "python3"
  },
  "language_info": {
   "codemirror_mode": {
    "name": "ipython",
    "version": 3
   },
   "file_extension": ".py",
   "mimetype": "text/x-python",
   "name": "python",
   "nbconvert_exporter": "python",
   "pygments_lexer": "ipython3",
   "version": "3.12.4"
  }
 },
 "nbformat": 4,
 "nbformat_minor": 5
}
