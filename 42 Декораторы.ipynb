{
 "cells": [
  {
   "cell_type": "markdown",
   "id": "b9a5b676-806b-4831-bb07-2c601646af41",
   "metadata": {},
   "source": [
    "# 42 Декораторы"
   ]
  },
  {
   "cell_type": "markdown",
   "id": "633de246-a267-4ce7-a3e2-2557ea5a56f2",
   "metadata": {},
   "source": [
    "## 42.01 Введение в декораторы"
   ]
  },
  {
   "cell_type": "code",
   "execution_count": 6,
   "id": "d2b5afc2-1122-4bed-af39-632dba0cd68e",
   "metadata": {},
   "outputs": [
    {
     "name": "stdout",
     "output_type": "stream",
     "text": [
      "This is my function\n"
     ]
    }
   ],
   "source": [
    "def decorator_function(original_fn):\n",
    "    def wrapper():\n",
    "        result = original_fn()\n",
    "        return result\n",
    "    return wrapper\n",
    "\n",
    "@decorator_function\n",
    "def my_function():\n",
    "    print(\"This is my function\")\n",
    "\n",
    "my_function()"
   ]
  },
  {
   "cell_type": "code",
   "execution_count": 9,
   "id": "a4c95223-af6e-4909-a739-5a2dc0ddb1f3",
   "metadata": {},
   "outputs": [
    {
     "name": "stdout",
     "output_type": "stream",
     "text": [
      "Это декоратор!\n",
      "Запись после определения wrapper\n",
      "Я внутри wrapper\n",
      "This is my function\n"
     ]
    }
   ],
   "source": [
    "def decorator_function(original_fn):\n",
    "    print(\"Это декоратор!\")\n",
    "    def wrapper():\n",
    "        print(\"Я внутри wrapper\")\n",
    "        result = original_fn()\n",
    "        return result\n",
    "    print(\"Запись после определения wrapper\")\n",
    "    return wrapper\n",
    "\n",
    "@decorator_function\n",
    "def my_function():\n",
    "    print(\"This is my function\")\n",
    "\n",
    "my_function()"
   ]
  },
  {
   "cell_type": "markdown",
   "id": "c59fc295-1e79-47ae-b6bc-a80b249a6ace",
   "metadata": {},
   "source": [
    "## 42.02 Практика - Wrapper функция"
   ]
  },
  {
   "cell_type": "code",
   "execution_count": 10,
   "id": "3f9bdcd1-eeaf-4791-8ff2-653457fec9ee",
   "metadata": {},
   "outputs": [
    {
     "name": "stdout",
     "output_type": "stream",
     "text": [
      "Выполнение перед функцией\n",
      "This is my function\n"
     ]
    }
   ],
   "source": [
    "def decorator_function(original_fn):\n",
    "    def wrapper():\n",
    "        print(\"Выполнение перед функцией\")\n",
    "        \n",
    "        result = original_fn()\n",
    "        \n",
    "        return result\n",
    "    return wrapper\n",
    "\n",
    "@decorator_function\n",
    "def my_function():\n",
    "    print(\"This is my function\")\n",
    "\n",
    "my_function()"
   ]
  },
  {
   "cell_type": "code",
   "execution_count": 12,
   "id": "7ca47f6d-4913-40b0-adc9-06df4235db34",
   "metadata": {},
   "outputs": [
    {
     "name": "stdout",
     "output_type": "stream",
     "text": [
      "Выполнение перед функцией\n",
      "This is my function\n",
      "После execution\n"
     ]
    }
   ],
   "source": [
    "def decorator_function(original_fn):\n",
    "    def wrapper():\n",
    "        # Действия до вызова исходной функции\n",
    "        print(\"Выполнение перед функцией\")\n",
    "        \n",
    "        result = original_fn()\n",
    "\n",
    "        # Дейтсвия после вызова исходной функции  \n",
    "        print(\"После execution\")\n",
    "        return result\n",
    "    return wrapper\n",
    "\n",
    "@decorator_function\n",
    "def my_function():\n",
    "    print(\"This is my function\")\n",
    "\n",
    "my_function()"
   ]
  },
  {
   "cell_type": "code",
   "execution_count": 16,
   "id": "f6e7ee4d-bafd-48c6-ba56-fdafc9ea5cfb",
   "metadata": {},
   "outputs": [
    {
     "ename": "TypeError",
     "evalue": "decorator_function.<locals>.wrapper() takes 0 positional arguments but 2 were given",
     "output_type": "error",
     "traceback": [
      "\u001b[1;31m---------------------------------------------------------------------------\u001b[0m",
      "\u001b[1;31mTypeError\u001b[0m                                 Traceback (most recent call last)",
      "Cell \u001b[1;32mIn[16], line 18\u001b[0m\n\u001b[0;32m     15\u001b[0m     \u001b[38;5;28mprint\u001b[39m(\u001b[38;5;124m\"\u001b[39m\u001b[38;5;124mThis is my function\u001b[39m\u001b[38;5;124m\"\u001b[39m)\n\u001b[0;32m     16\u001b[0m     \u001b[38;5;28;01mreturn\u001b[39;00m (a \u001b[38;5;241m*\u001b[39m \u001b[38;5;241m5\u001b[39m, b \u001b[38;5;241m*\u001b[39m \u001b[38;5;241m10\u001b[39m)\n\u001b[1;32m---> 18\u001b[0m my_function(\u001b[38;5;241m11\u001b[39m, \u001b[38;5;241m12\u001b[39m)\n",
      "\u001b[1;31mTypeError\u001b[0m: decorator_function.<locals>.wrapper() takes 0 positional arguments but 2 were given"
     ]
    }
   ],
   "source": [
    "def decorator_function(original_fn):\n",
    "    def wrapper():\n",
    "        # Действия до вызова исходной функции\n",
    "        print(\"Выполнение перед функцией\")\n",
    "        \n",
    "        result = original_fn()\n",
    "\n",
    "        # Дейтсвия после вызова исходной функции  \n",
    "        print(\"После execution\")\n",
    "        return result\n",
    "    return wrapper\n",
    "\n",
    "@decorator_function\n",
    "def my_function(a, b):\n",
    "    print(\"This is my function\")\n",
    "    return (a * 5, b * 10)\n",
    "\n",
    "my_function(11, 12)"
   ]
  },
  {
   "cell_type": "code",
   "execution_count": 18,
   "id": "00af1ad4-e01b-4c19-a142-6cf33ae7701d",
   "metadata": {},
   "outputs": [
    {
     "name": "stdout",
     "output_type": "stream",
     "text": [
      "Выполнение перед функцией\n",
      "This is my function\n",
      "После execution\n",
      "(55, 120)\n"
     ]
    }
   ],
   "source": [
    "def decorator_function(original_fn):\n",
    "    def wrapper(a, b):\n",
    "        # Действия до вызова исходной функции\n",
    "        print(\"Выполнение перед функцией\")\n",
    "        \n",
    "        result = original_fn(a, b)\n",
    "\n",
    "        # Дейтсвия после вызова исходной функции  \n",
    "        print(\"После execution\")\n",
    "        return result\n",
    "    return wrapper\n",
    "\n",
    "@decorator_function\n",
    "def my_function(a, b):\n",
    "    print(\"This is my function\")\n",
    "    return (a * 5, b * 10)\n",
    "\n",
    "result = my_function(11, 12)\n",
    "print(result)"
   ]
  },
  {
   "cell_type": "code",
   "execution_count": 20,
   "id": "9f460559-6649-41a1-ad44-7110015aec4a",
   "metadata": {},
   "outputs": [
    {
     "name": "stdout",
     "output_type": "stream",
     "text": [
      "Выполнение перед функцией\n",
      "This is my function\n",
      "После execution\n",
      "(55, 120)\n"
     ]
    }
   ],
   "source": [
    "def decorator_function(original_fn):\n",
    "    def wrapper(*args, **kwargs):\n",
    "        # Действия до вызова исходной функции\n",
    "        print(\"Выполнение перед функцией\")\n",
    "        \n",
    "        result = original_fn(*args, **kwargs)\n",
    "\n",
    "        # Дейтсвия после вызова исходной функции  \n",
    "        print(\"После execution\")\n",
    "        return result\n",
    "    return wrapper\n",
    "\n",
    "@decorator_function\n",
    "def my_function(a, b):\n",
    "    print(\"This is my function\")\n",
    "    return (a * 5, b * 10)\n",
    "\n",
    "result = my_function(11, 12)\n",
    "print(result)"
   ]
  },
  {
   "cell_type": "code",
   "execution_count": 21,
   "id": "937255a4-b71d-4004-996d-498b3d268337",
   "metadata": {},
   "outputs": [
    {
     "name": "stdout",
     "output_type": "stream",
     "text": [
      "Выполнение перед функцией\n",
      "This is my function\n",
      "После execution\n",
      "None\n"
     ]
    }
   ],
   "source": [
    "def decorator_function(original_fn):\n",
    "    def wrapper(*args, **kwargs):\n",
    "        # Действия до вызова исходной функции\n",
    "        print(\"Выполнение перед функцией\")\n",
    "        \n",
    "        result = original_fn(*args, **kwargs)\n",
    "\n",
    "        # Дейтсвия после вызова исходной функции  \n",
    "        print(\"После execution\")\n",
    "        #return result\n",
    "    return wrapper\n",
    "\n",
    "@decorator_function\n",
    "def my_function(a, b):\n",
    "    print(\"This is my function\")\n",
    "    return (a * 5, b * 10)\n",
    "\n",
    "result = my_function(11, 12)\n",
    "print(result)"
   ]
  },
  {
   "cell_type": "markdown",
   "id": "1b3ea879-bf55-4db4-abfb-bf75b018f911",
   "metadata": {},
   "source": [
    "## 42.03 Резюме по структуре декораторов"
   ]
  },
  {
   "cell_type": "code",
   "execution_count": 22,
   "id": "3ae6308b-661c-4348-9835-60dd6c53d6dd",
   "metadata": {},
   "outputs": [
    {
     "name": "stdout",
     "output_type": "stream",
     "text": [
      "Выполнение перед функцией\n",
      "This is my function\n",
      "После execution\n",
      "(55, 120)\n"
     ]
    }
   ],
   "source": [
    "def decorator_function(original_fn):\n",
    "    def wrapper(*args, **kwargs):\n",
    "        # Действия до вызова исходной функции\n",
    "        print(\"Выполнение перед функцией\")\n",
    "        \n",
    "        result = original_fn(*args, **kwargs)\n",
    "\n",
    "        # Дейтсвия после вызова исходной функции  \n",
    "        print(\"После execution\")\n",
    "        return result\n",
    "    return wrapper\n",
    "\n",
    "@decorator_function\n",
    "def my_function(a, b):\n",
    "    print(\"This is my function\")\n",
    "    return (a * 5, b * 10)\n",
    "\n",
    "result = my_function(11, 12)\n",
    "print(result)"
   ]
  },
  {
   "cell_type": "markdown",
   "id": "cf92be25-fc82-41f6-acac-1bd449bfe773",
   "metadata": {},
   "source": [
    "# 42.04 Пример декоратора - Логирование данных"
   ]
  },
  {
   "cell_type": "code",
   "execution_count": null,
   "id": "99abed1c-e61a-4908-a52c-90a65a6684ad",
   "metadata": {},
   "outputs": [],
   "source": [
    "# минимальный набор для создания функции декоратора\n",
    "def log_function_call(fn):\n",
    "    def wrapper(*args, **kwargs):\n",
    "        result = fn(*args, **kwargs)\n",
    "        return result\n",
    "        \n",
    "    return wrapper"
   ]
  },
  {
   "cell_type": "code",
   "execution_count": 2,
   "id": "732a52f2-6abf-49af-bd37-1667d309dafc",
   "metadata": {},
   "outputs": [
    {
     "name": "stdout",
     "output_type": "stream",
     "text": [
      "10\n"
     ]
    }
   ],
   "source": [
    "def log_function_call(fn):\n",
    "    def wrapper(*args, **kwargs):\n",
    "        result = fn(*args, **kwargs)\n",
    "        return result\n",
    "        \n",
    "    return wrapper\n",
    "\n",
    "@log_function_call\n",
    "def mult(a,b):\n",
    "    return a * b\n",
    "\n",
    "\n",
    "print(mult(5,2))"
   ]
  },
  {
   "cell_type": "code",
   "execution_count": 3,
   "id": "c432a59a-943b-4986-b94b-4f3b636eb112",
   "metadata": {},
   "outputs": [
    {
     "name": "stdout",
     "output_type": "stream",
     "text": [
      "Function name is mult\n",
      "10\n"
     ]
    }
   ],
   "source": [
    "def log_function_call(fn):\n",
    "    def wrapper(*args, **kwargs):\n",
    "        print(f\"Function name is {fn.__name__}\")\n",
    "        result = fn(*args, **kwargs)\n",
    "        return result\n",
    "        \n",
    "    return wrapper\n",
    "\n",
    "@log_function_call\n",
    "def mult(a,b):\n",
    "    return a * b\n",
    "\n",
    "\n",
    "print(mult(5,2))"
   ]
  },
  {
   "cell_type": "code",
   "execution_count": 4,
   "id": "cf6e8eef-f7ea-4d24-b915-45a5f4064004",
   "metadata": {},
   "outputs": [
    {
     "name": "stdout",
     "output_type": "stream",
     "text": [
      "Function name is mult\n",
      "Function arguments: ((5, 2), {})\n",
      "10\n"
     ]
    }
   ],
   "source": [
    "def log_function_call(fn):\n",
    "    def wrapper(*args, **kwargs):\n",
    "        print(f\"Function name is {fn.__name__}\")\n",
    "        print(f\"Function arguments: {args, kwargs}\")\n",
    "        result = fn(*args, **kwargs)\n",
    "        return result\n",
    "        \n",
    "    return wrapper\n",
    "\n",
    "@log_function_call\n",
    "def mult(a,b):\n",
    "    return a * b\n",
    "\n",
    "\n",
    "print(mult(5,2))"
   ]
  },
  {
   "cell_type": "code",
   "execution_count": 5,
   "id": "8fd940ca-d64b-40e1-b2f6-21a210e79f26",
   "metadata": {},
   "outputs": [
    {
     "name": "stdout",
     "output_type": "stream",
     "text": [
      "Function name is mult\n",
      "Function arguments: ((), {'a': 5, 'b': 2})\n",
      "10\n"
     ]
    }
   ],
   "source": [
    "def log_function_call(fn):\n",
    "    def wrapper(*args, **kwargs):\n",
    "        print(f\"Function name is {fn.__name__}\")\n",
    "        print(f\"Function arguments: {args, kwargs}\")\n",
    "        result = fn(*args, **kwargs)\n",
    "        return result\n",
    "        \n",
    "    return wrapper\n",
    "\n",
    "@log_function_call\n",
    "def mult(a,b):\n",
    "    return a * b\n",
    "\n",
    "\n",
    "print(mult(a=5,b=2))"
   ]
  },
  {
   "cell_type": "code",
   "execution_count": 9,
   "id": "1069ab75-eda9-41f0-b156-f866943d21ea",
   "metadata": {},
   "outputs": [
    {
     "name": "stdout",
     "output_type": "stream",
     "text": [
      "Function name: mult\n",
      "Function arguments: ((5, 2), {})\n",
      "Function result: 10\n",
      "10\n",
      "Function name: sum\n",
      "Function arguments: ((5, 10), {})\n",
      "Function result: 15\n",
      "15\n"
     ]
    }
   ],
   "source": [
    "def log_function_call(fn):\n",
    "    def wrapper(*args, **kwargs):\n",
    "        print(f\"Function name: {fn.__name__}\")\n",
    "        print(f\"Function arguments: {args, kwargs}\")\n",
    "        result = fn(*args, **kwargs)\n",
    "        print(f\"Function result: {result}\")\n",
    "        return result\n",
    "        \n",
    "    return wrapper\n",
    "\n",
    "@log_function_call\n",
    "def mult(a,b):\n",
    "    return a * b\n",
    "\n",
    "@log_function_call\n",
    "def sum(a,b):\n",
    "    return a + b\n",
    "\n",
    "print(mult(5, 2))\n",
    "print(sum(5, 10))"
   ]
  },
  {
   "cell_type": "markdown",
   "id": "fdb20a04-bf5f-4db2-b1fa-4a6b5a881efe",
   "metadata": {},
   "source": [
    "# 42.05 Пример декоратора - Проверка аргументов"
   ]
  },
  {
   "cell_type": "code",
   "execution_count": 1,
   "id": "47a131c6-73dc-4a9b-911b-58bd182fd5e0",
   "metadata": {},
   "outputs": [
    {
     "name": "stdout",
     "output_type": "stream",
     "text": [
      "9\n",
      "12.8\n"
     ]
    }
   ],
   "source": [
    "def validate_args(fn):\n",
    "    def wrapper(*args, **kwargs):\n",
    "        result = fn(*args, **kwargs)\n",
    "        return result\n",
    "    return wrapper\n",
    "\n",
    "def sum_nums(a, b):\n",
    "    return a + b\n",
    "\n",
    "print(sum_nums(7,2))\n",
    "print(sum_nums(10.5, 2.3))"
   ]
  },
  {
   "cell_type": "code",
   "execution_count": 27,
   "id": "80fd6e77-979d-4474-852a-bf87d7483833",
   "metadata": {},
   "outputs": [
    {
     "name": "stdout",
     "output_type": "stream",
     "text": [
      "9\n",
      "12.8\n"
     ]
    }
   ],
   "source": [
    "def validate_args(fn):\n",
    "    def wrapper(*args, **kwargs):\n",
    "        for arg in args:\n",
    "            if not isinstance(arg, int) and not isinstance(arg, float):\n",
    "                raise ValueError(f\"Type of the {arg} is {type(arg)}\",\n",
    "                           \"All arguments must be int or float!\")      \n",
    "                \n",
    "        result = fn(*args, **kwargs)\n",
    "        return result\n",
    "    return wrapper\n",
    "\n",
    "@validate_args\n",
    "def sum_nums(a, b):\n",
    "    return a + b\n",
    "\n",
    "print(sum_nums(7,2))\n",
    "print(sum_nums(10.5, 2.3))"
   ]
  },
  {
   "cell_type": "code",
   "execution_count": 28,
   "id": "4060a2af-52ff-40cc-bfb8-33fecc292994",
   "metadata": {},
   "outputs": [
    {
     "name": "stdout",
     "output_type": "stream",
     "text": [
      "9\n",
      "12.8\n"
     ]
    },
    {
     "ename": "ValueError",
     "evalue": "(\"Type of the 12 is <class 'str'>\", 'All arguments must be int or float!')",
     "output_type": "error",
     "traceback": [
      "\u001b[1;31m---------------------------------------------------------------------------\u001b[0m",
      "\u001b[1;31mValueError\u001b[0m                                Traceback (most recent call last)",
      "Cell \u001b[1;32mIn[28], line 18\u001b[0m\n\u001b[0;32m     16\u001b[0m \u001b[38;5;28mprint\u001b[39m(sum_nums(\u001b[38;5;241m7\u001b[39m,\u001b[38;5;241m2\u001b[39m))\n\u001b[0;32m     17\u001b[0m \u001b[38;5;28mprint\u001b[39m(sum_nums(\u001b[38;5;241m10.5\u001b[39m, \u001b[38;5;241m2.3\u001b[39m))\n\u001b[1;32m---> 18\u001b[0m \u001b[38;5;28mprint\u001b[39m(sum_nums(a\u001b[38;5;241m=\u001b[39m\u001b[38;5;241m10\u001b[39m, b\u001b[38;5;241m=\u001b[39m\u001b[38;5;124m'\u001b[39m\u001b[38;5;124m12\u001b[39m\u001b[38;5;124m'\u001b[39m))\n",
      "Cell \u001b[1;32mIn[28], line 5\u001b[0m, in \u001b[0;36mvalidate_args.<locals>.wrapper\u001b[1;34m(*args, **kwargs)\u001b[0m\n\u001b[0;32m      3\u001b[0m \u001b[38;5;28;01mfor\u001b[39;00m arg \u001b[38;5;129;01min\u001b[39;00m [\u001b[38;5;241m*\u001b[39margs, \u001b[38;5;241m*\u001b[39mkwargs\u001b[38;5;241m.\u001b[39mvalues()]:\n\u001b[0;32m      4\u001b[0m     \u001b[38;5;28;01mif\u001b[39;00m \u001b[38;5;129;01mnot\u001b[39;00m \u001b[38;5;28misinstance\u001b[39m(arg, \u001b[38;5;28mint\u001b[39m) \u001b[38;5;129;01mand\u001b[39;00m \u001b[38;5;129;01mnot\u001b[39;00m \u001b[38;5;28misinstance\u001b[39m(arg, \u001b[38;5;28mfloat\u001b[39m):\n\u001b[1;32m----> 5\u001b[0m         \u001b[38;5;28;01mraise\u001b[39;00m \u001b[38;5;167;01mValueError\u001b[39;00m(\u001b[38;5;124mf\u001b[39m\u001b[38;5;124m\"\u001b[39m\u001b[38;5;124mType of the \u001b[39m\u001b[38;5;132;01m{\u001b[39;00marg\u001b[38;5;132;01m}\u001b[39;00m\u001b[38;5;124m is \u001b[39m\u001b[38;5;132;01m{\u001b[39;00m\u001b[38;5;28mtype\u001b[39m(arg)\u001b[38;5;132;01m}\u001b[39;00m\u001b[38;5;124m\"\u001b[39m,\n\u001b[0;32m      6\u001b[0m                    \u001b[38;5;124m\"\u001b[39m\u001b[38;5;124mAll arguments must be int or float!\u001b[39m\u001b[38;5;124m\"\u001b[39m)      \n\u001b[0;32m      8\u001b[0m result \u001b[38;5;241m=\u001b[39m fn(\u001b[38;5;241m*\u001b[39margs, \u001b[38;5;241m*\u001b[39m\u001b[38;5;241m*\u001b[39mkwargs)\n\u001b[0;32m      9\u001b[0m \u001b[38;5;28;01mreturn\u001b[39;00m result\n",
      "\u001b[1;31mValueError\u001b[0m: (\"Type of the 12 is <class 'str'>\", 'All arguments must be int or float!')"
     ]
    }
   ],
   "source": [
    "def validate_args(fn):\n",
    "    def wrapper(*args, **kwargs):\n",
    "        for arg in [*args, *kwargs.values()]:\n",
    "            if not isinstance(arg, int) and not isinstance(arg, float):\n",
    "                raise ValueError(f\"Type of the {arg} is {type(arg)}\",\n",
    "                           \"All arguments must be int or float!\")      \n",
    "                \n",
    "        result = fn(*args, **kwargs)\n",
    "        return result\n",
    "    return wrapper\n",
    "\n",
    "@validate_args\n",
    "def sum_nums(a, b):\n",
    "    return a + b\n",
    "\n",
    "print(sum_nums(7,2))\n",
    "print(sum_nums(10.5, 2.3))\n",
    "print(sum_nums(a=10, b='12'))"
   ]
  },
  {
   "cell_type": "code",
   "execution_count": 10,
   "id": "875e0853-537a-4697-8baa-d5c464dbdb71",
   "metadata": {},
   "outputs": [
    {
     "name": "stdout",
     "output_type": "stream",
     "text": [
      "9\n",
      "12.8\n",
      "(\"Type of the 10 is <class 'str'>\", 'All arguments must be int or float!')\n"
     ]
    }
   ],
   "source": [
    "def validate_args(fn):\n",
    "    def wrapper(*args, **kwargs):\n",
    "        for arg in [*args, *kwargs.values()]:\n",
    "            if not isinstance(arg, int) and not isinstance(arg, float):\n",
    "                raise ValueError(f\"Type of the {arg} is {type(arg)}\",\n",
    "                           \"All arguments must be int or float!\")      \n",
    "                \n",
    "            result = fn(*args, **kwargs)\n",
    "        return result\n",
    "    return wrapper\n",
    "\n",
    "@validate_args\n",
    "def sum_nums(a, b):\n",
    "    return a + b\n",
    "    \n",
    "try:\n",
    "    print(sum_nums(7,2))\n",
    "    print(sum_nums(10.5, 2.3))\n",
    "    print(sum_nums(a='10', b='12'))\n",
    "except ValueError as e:\n",
    "    print(e)"
   ]
  },
  {
   "cell_type": "code",
   "execution_count": 29,
   "id": "5756a69d-281d-43c7-9b9f-b413926814b1",
   "metadata": {},
   "outputs": [
    {
     "name": "stdout",
     "output_type": "stream",
     "text": [
      "112\n",
      "1\n",
      "(\"Type of the 1 is <class 'str'>\", 'All arguments must be int or float!')\n"
     ]
    }
   ],
   "source": [
    "def validate_args(fn):\n",
    "    def wrapper(*args, **kwargs):\n",
    "        for arg in [*args, *kwargs.values()]:\n",
    "            print(arg)\n",
    "            if not isinstance(arg, int) and not isinstance(arg, float):\n",
    "                raise ValueError(f\"Type of the {arg} is {type(arg)}\",\n",
    "                           \"All arguments must be int or float!\")      \n",
    "                \n",
    "        result = fn(*args, **kwargs)\n",
    "        return result\n",
    "    return wrapper\n",
    "\n",
    "@validate_args\n",
    "def sum_nums(a, b):\n",
    "    return a + b\n",
    "    \n",
    "try:\n",
    "    print(sum_nums(112, '1'))\n",
    "except ValueError as e:\n",
    "    print(e)"
   ]
  },
  {
   "cell_type": "markdown",
   "id": "b9f8d479-0bfa-407c-87e6-71c37ce67681",
   "metadata": {},
   "source": [
    "# 42.06 Пример декоратора - Проверка аутентификации пользователя"
   ]
  },
  {
   "cell_type": "code",
   "execution_count": null,
   "id": "f10c3576-746d-4ffd-86a3-475dfd51ec46",
   "metadata": {},
   "outputs": [],
   "source": [
    "def check_user_auth(fn):\n",
    "    def wrapper(*args, **kwargs):\n",
    "        return fn(*args, **kwargs)\n",
    "    return wrapper"
   ]
  },
  {
   "cell_type": "code",
   "execution_count": 31,
   "id": "0da0f78e-5b65-436c-bc77-16d8822b60bd",
   "metadata": {},
   "outputs": [
    {
     "name": "stdout",
     "output_type": "stream",
     "text": [
      "Results of sum sensitive tasks\n"
     ]
    }
   ],
   "source": [
    "def check_user_auth(fn):\n",
    "    def wrapper(*args, **kwargs):\n",
    "        return fn(*args, **kwargs)\n",
    "    return wrapper\n",
    "\n",
    "@check_user_auth\n",
    "def do_sensitive_job():\n",
    "    # Do some task only if user is authenticated\n",
    "    print(\"Results of sum sensitive tasks\")\n",
    "\n",
    "do_sensitive_job()"
   ]
  },
  {
   "cell_type": "code",
   "execution_count": 36,
   "id": "17833c76-b31c-491a-910e-1a70b0d3a71d",
   "metadata": {},
   "outputs": [
    {
     "name": "stdout",
     "output_type": "stream",
     "text": [
      "User is authenticated\n",
      "Results of sum sensitive tasks\n"
     ]
    }
   ],
   "source": [
    "def is_user_authenticated():\n",
    "    return True\n",
    "\n",
    "def check_user_auth(fn):\n",
    "    def wrapper(*args, **kwargs):\n",
    "        if is_user_authenticated():\n",
    "            print(\"User is authenticated\")\n",
    "            return fn(*args, **kwargs)\n",
    "        else:\n",
    "            print(\"User is NOT authenticated!\")\n",
    "            raise Exception(\"User is not authenticated\")\n",
    "    return wrapper\n",
    "\n",
    "@check_user_auth\n",
    "def do_sensitive_job():\n",
    "    # Do some task only if user is authenticated\n",
    "    print(\"Results of sum sensitive tasks\")\n",
    "\n",
    "do_sensitive_job()"
   ]
  },
  {
   "cell_type": "code",
   "execution_count": 37,
   "id": "fa320a72-bcad-4281-a005-917d755ec67d",
   "metadata": {},
   "outputs": [
    {
     "name": "stdout",
     "output_type": "stream",
     "text": [
      "User is NOT authenticated!\n"
     ]
    },
    {
     "ename": "Exception",
     "evalue": "User is not authenticated",
     "output_type": "error",
     "traceback": [
      "\u001b[1;31m---------------------------------------------------------------------------\u001b[0m",
      "\u001b[1;31mException\u001b[0m                                 Traceback (most recent call last)",
      "Cell \u001b[1;32mIn[37], line 19\u001b[0m\n\u001b[0;32m     14\u001b[0m \u001b[38;5;129m@check_user_auth\u001b[39m\n\u001b[0;32m     15\u001b[0m \u001b[38;5;28;01mdef\u001b[39;00m \u001b[38;5;21mdo_sensitive_job\u001b[39m():\n\u001b[0;32m     16\u001b[0m     \u001b[38;5;66;03m# Do some task only if user is authenticated\u001b[39;00m\n\u001b[0;32m     17\u001b[0m     \u001b[38;5;28mprint\u001b[39m(\u001b[38;5;124m\"\u001b[39m\u001b[38;5;124mResults of sum sensitive tasks\u001b[39m\u001b[38;5;124m\"\u001b[39m)\n\u001b[1;32m---> 19\u001b[0m do_sensitive_job()\n",
      "Cell \u001b[1;32mIn[37], line 11\u001b[0m, in \u001b[0;36mcheck_user_auth.<locals>.wrapper\u001b[1;34m(*args, **kwargs)\u001b[0m\n\u001b[0;32m      9\u001b[0m \u001b[38;5;28;01melse\u001b[39;00m:\n\u001b[0;32m     10\u001b[0m     \u001b[38;5;28mprint\u001b[39m(\u001b[38;5;124m\"\u001b[39m\u001b[38;5;124mUser is NOT authenticated!\u001b[39m\u001b[38;5;124m\"\u001b[39m)\n\u001b[1;32m---> 11\u001b[0m     \u001b[38;5;28;01mraise\u001b[39;00m \u001b[38;5;167;01mException\u001b[39;00m(\u001b[38;5;124m\"\u001b[39m\u001b[38;5;124mUser is not authenticated\u001b[39m\u001b[38;5;124m\"\u001b[39m)\n",
      "\u001b[1;31mException\u001b[0m: User is not authenticated"
     ]
    }
   ],
   "source": [
    "def is_user_authenticated():\n",
    "    return False\n",
    "\n",
    "def check_user_auth(fn):\n",
    "    def wrapper(*args, **kwargs):\n",
    "        if is_user_authenticated():\n",
    "            print(\"User is authenticated\")\n",
    "            return fn(*args, **kwargs)\n",
    "        else:\n",
    "            print(\"User is NOT authenticated!\")\n",
    "            raise Exception(\"User is not authenticated\")\n",
    "    return wrapper\n",
    "\n",
    "@check_user_auth\n",
    "def do_sensitive_job():\n",
    "    # Do some task only if user is authenticated\n",
    "    print(\"Results of sum sensitive tasks\")\n",
    "\n",
    "do_sensitive_job()"
   ]
  },
  {
   "cell_type": "code",
   "execution_count": 39,
   "id": "e832281c-00c7-4cfe-b203-768245dbed8c",
   "metadata": {},
   "outputs": [
    {
     "name": "stdout",
     "output_type": "stream",
     "text": [
      "User is not authenticated\n"
     ]
    }
   ],
   "source": [
    "def is_user_authenticated():\n",
    "    return False\n",
    "\n",
    "def check_user_auth(fn):\n",
    "    def wrapper(*args, **kwargs):\n",
    "        if is_user_authenticated():\n",
    "            print(\"User is authenticated\")\n",
    "            return fn(*args, **kwargs)\n",
    "        else:\n",
    "            raise Exception(\"User is not authenticated\")\n",
    "    return wrapper\n",
    "\n",
    "@check_user_auth\n",
    "def do_sensitive_job():\n",
    "    # Do some task only if user is authenticated\n",
    "    print(\"Results of sum sensitive tasks\")\n",
    "\n",
    "try:\n",
    "    do_sensitive_job()\n",
    "except Exception as e:\n",
    "    print(e)"
   ]
  },
  {
   "cell_type": "code",
   "execution_count": null,
   "id": "b6af6b6b-7dfe-4dbb-a744-4b848980395f",
   "metadata": {},
   "outputs": [],
   "source": []
  },
  {
   "cell_type": "code",
   "execution_count": null,
   "id": "75eed950-32d6-44d9-910d-80ea6cd9c850",
   "metadata": {},
   "outputs": [],
   "source": []
  },
  {
   "cell_type": "code",
   "execution_count": null,
   "id": "d4a8ff6e-6ba9-4ac1-94b0-f794881b5a30",
   "metadata": {},
   "outputs": [],
   "source": []
  }
 ],
 "metadata": {
  "kernelspec": {
   "display_name": "Python 3 (ipykernel)",
   "language": "python",
   "name": "python3"
  },
  "language_info": {
   "codemirror_mode": {
    "name": "ipython",
    "version": 3
   },
   "file_extension": ".py",
   "mimetype": "text/x-python",
   "name": "python",
   "nbconvert_exporter": "python",
   "pygments_lexer": "ipython3",
   "version": "3.12.4"
  }
 },
 "nbformat": 4,
 "nbformat_minor": 5
}
