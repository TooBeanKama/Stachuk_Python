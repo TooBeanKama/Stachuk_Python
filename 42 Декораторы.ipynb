{
 "cells": [
  {
   "cell_type": "markdown",
   "id": "b9a5b676-806b-4831-bb07-2c601646af41",
   "metadata": {},
   "source": [
    "# 42 Декораторы"
   ]
  },
  {
   "cell_type": "markdown",
   "id": "633de246-a267-4ce7-a3e2-2557ea5a56f2",
   "metadata": {},
   "source": [
    "## 42.01 Введение в декораторы"
   ]
  },
  {
   "cell_type": "code",
   "execution_count": 6,
   "id": "d2b5afc2-1122-4bed-af39-632dba0cd68e",
   "metadata": {},
   "outputs": [
    {
     "name": "stdout",
     "output_type": "stream",
     "text": [
      "This is my function\n"
     ]
    }
   ],
   "source": [
    "def decorator_function(original_fn):\n",
    "    def wrapper():\n",
    "        result = original_fn()\n",
    "        return result\n",
    "    return wrapper\n",
    "\n",
    "@decorator_function\n",
    "def my_function():\n",
    "    print(\"This is my function\")\n",
    "\n",
    "my_function()"
   ]
  },
  {
   "cell_type": "code",
   "execution_count": 9,
   "id": "a4c95223-af6e-4909-a739-5a2dc0ddb1f3",
   "metadata": {},
   "outputs": [
    {
     "name": "stdout",
     "output_type": "stream",
     "text": [
      "Это декоратор!\n",
      "Запись после определения wrapper\n",
      "Я внутри wrapper\n",
      "This is my function\n"
     ]
    }
   ],
   "source": [
    "def decorator_function(original_fn):\n",
    "    print(\"Это декоратор!\")\n",
    "    def wrapper():\n",
    "        print(\"Я внутри wrapper\")\n",
    "        result = original_fn()\n",
    "        return result\n",
    "    print(\"Запись после определения wrapper\")\n",
    "    return wrapper\n",
    "\n",
    "@decorator_function\n",
    "def my_function():\n",
    "    print(\"This is my function\")\n",
    "\n",
    "my_function()"
   ]
  },
  {
   "cell_type": "markdown",
   "id": "c59fc295-1e79-47ae-b6bc-a80b249a6ace",
   "metadata": {},
   "source": [
    "## 42.02 Практика - Wrapper функция"
   ]
  },
  {
   "cell_type": "code",
   "execution_count": 10,
   "id": "3f9bdcd1-eeaf-4791-8ff2-653457fec9ee",
   "metadata": {},
   "outputs": [
    {
     "name": "stdout",
     "output_type": "stream",
     "text": [
      "Выполнение перед функцией\n",
      "This is my function\n"
     ]
    }
   ],
   "source": [
    "def decorator_function(original_fn):\n",
    "    def wrapper():\n",
    "        print(\"Выполнение перед функцией\")\n",
    "        \n",
    "        result = original_fn()\n",
    "        \n",
    "        return result\n",
    "    return wrapper\n",
    "\n",
    "@decorator_function\n",
    "def my_function():\n",
    "    print(\"This is my function\")\n",
    "\n",
    "my_function()"
   ]
  },
  {
   "cell_type": "code",
   "execution_count": 12,
   "id": "7ca47f6d-4913-40b0-adc9-06df4235db34",
   "metadata": {},
   "outputs": [
    {
     "name": "stdout",
     "output_type": "stream",
     "text": [
      "Выполнение перед функцией\n",
      "This is my function\n",
      "После execution\n"
     ]
    }
   ],
   "source": [
    "def decorator_function(original_fn):\n",
    "    def wrapper():\n",
    "        # Действия до вызова исходной функции\n",
    "        print(\"Выполнение перед функцией\")\n",
    "        \n",
    "        result = original_fn()\n",
    "\n",
    "        # Дейтсвия после вызова исходной функции  \n",
    "        print(\"После execution\")\n",
    "        return result\n",
    "    return wrapper\n",
    "\n",
    "@decorator_function\n",
    "def my_function():\n",
    "    print(\"This is my function\")\n",
    "\n",
    "my_function()"
   ]
  },
  {
   "cell_type": "code",
   "execution_count": 16,
   "id": "f6e7ee4d-bafd-48c6-ba56-fdafc9ea5cfb",
   "metadata": {},
   "outputs": [
    {
     "ename": "TypeError",
     "evalue": "decorator_function.<locals>.wrapper() takes 0 positional arguments but 2 were given",
     "output_type": "error",
     "traceback": [
      "\u001b[1;31m---------------------------------------------------------------------------\u001b[0m",
      "\u001b[1;31mTypeError\u001b[0m                                 Traceback (most recent call last)",
      "Cell \u001b[1;32mIn[16], line 18\u001b[0m\n\u001b[0;32m     15\u001b[0m     \u001b[38;5;28mprint\u001b[39m(\u001b[38;5;124m\"\u001b[39m\u001b[38;5;124mThis is my function\u001b[39m\u001b[38;5;124m\"\u001b[39m)\n\u001b[0;32m     16\u001b[0m     \u001b[38;5;28;01mreturn\u001b[39;00m (a \u001b[38;5;241m*\u001b[39m \u001b[38;5;241m5\u001b[39m, b \u001b[38;5;241m*\u001b[39m \u001b[38;5;241m10\u001b[39m)\n\u001b[1;32m---> 18\u001b[0m my_function(\u001b[38;5;241m11\u001b[39m, \u001b[38;5;241m12\u001b[39m)\n",
      "\u001b[1;31mTypeError\u001b[0m: decorator_function.<locals>.wrapper() takes 0 positional arguments but 2 were given"
     ]
    }
   ],
   "source": [
    "def decorator_function(original_fn):\n",
    "    def wrapper():\n",
    "        # Действия до вызова исходной функции\n",
    "        print(\"Выполнение перед функцией\")\n",
    "        \n",
    "        result = original_fn()\n",
    "\n",
    "        # Дейтсвия после вызова исходной функции  \n",
    "        print(\"После execution\")\n",
    "        return result\n",
    "    return wrapper\n",
    "\n",
    "@decorator_function\n",
    "def my_function(a, b):\n",
    "    print(\"This is my function\")\n",
    "    return (a * 5, b * 10)\n",
    "\n",
    "my_function(11, 12)"
   ]
  },
  {
   "cell_type": "code",
   "execution_count": 18,
   "id": "00af1ad4-e01b-4c19-a142-6cf33ae7701d",
   "metadata": {},
   "outputs": [
    {
     "name": "stdout",
     "output_type": "stream",
     "text": [
      "Выполнение перед функцией\n",
      "This is my function\n",
      "После execution\n",
      "(55, 120)\n"
     ]
    }
   ],
   "source": [
    "def decorator_function(original_fn):\n",
    "    def wrapper(a, b):\n",
    "        # Действия до вызова исходной функции\n",
    "        print(\"Выполнение перед функцией\")\n",
    "        \n",
    "        result = original_fn(a, b)\n",
    "\n",
    "        # Дейтсвия после вызова исходной функции  \n",
    "        print(\"После execution\")\n",
    "        return result\n",
    "    return wrapper\n",
    "\n",
    "@decorator_function\n",
    "def my_function(a, b):\n",
    "    print(\"This is my function\")\n",
    "    return (a * 5, b * 10)\n",
    "\n",
    "result = my_function(11, 12)\n",
    "print(result)"
   ]
  },
  {
   "cell_type": "code",
   "execution_count": 20,
   "id": "9f460559-6649-41a1-ad44-7110015aec4a",
   "metadata": {},
   "outputs": [
    {
     "name": "stdout",
     "output_type": "stream",
     "text": [
      "Выполнение перед функцией\n",
      "This is my function\n",
      "После execution\n",
      "(55, 120)\n"
     ]
    }
   ],
   "source": [
    "def decorator_function(original_fn):\n",
    "    def wrapper(*args, **kwargs):\n",
    "        # Действия до вызова исходной функции\n",
    "        print(\"Выполнение перед функцией\")\n",
    "        \n",
    "        result = original_fn(*args, **kwargs)\n",
    "\n",
    "        # Дейтсвия после вызова исходной функции  \n",
    "        print(\"После execution\")\n",
    "        return result\n",
    "    return wrapper\n",
    "\n",
    "@decorator_function\n",
    "def my_function(a, b):\n",
    "    print(\"This is my function\")\n",
    "    return (a * 5, b * 10)\n",
    "\n",
    "result = my_function(11, 12)\n",
    "print(result)"
   ]
  },
  {
   "cell_type": "code",
   "execution_count": 21,
   "id": "937255a4-b71d-4004-996d-498b3d268337",
   "metadata": {},
   "outputs": [
    {
     "name": "stdout",
     "output_type": "stream",
     "text": [
      "Выполнение перед функцией\n",
      "This is my function\n",
      "После execution\n",
      "None\n"
     ]
    }
   ],
   "source": [
    "def decorator_function(original_fn):\n",
    "    def wrapper(*args, **kwargs):\n",
    "        # Действия до вызова исходной функции\n",
    "        print(\"Выполнение перед функцией\")\n",
    "        \n",
    "        result = original_fn(*args, **kwargs)\n",
    "\n",
    "        # Дейтсвия после вызова исходной функции  \n",
    "        print(\"После execution\")\n",
    "        #return result\n",
    "    return wrapper\n",
    "\n",
    "@decorator_function\n",
    "def my_function(a, b):\n",
    "    print(\"This is my function\")\n",
    "    return (a * 5, b * 10)\n",
    "\n",
    "result = my_function(11, 12)\n",
    "print(result)"
   ]
  },
  {
   "cell_type": "markdown",
   "id": "1b3ea879-bf55-4db4-abfb-bf75b018f911",
   "metadata": {},
   "source": [
    "## 42.03 Резюме по структуре декораторов"
   ]
  },
  {
   "cell_type": "code",
   "execution_count": 22,
   "id": "3ae6308b-661c-4348-9835-60dd6c53d6dd",
   "metadata": {},
   "outputs": [
    {
     "name": "stdout",
     "output_type": "stream",
     "text": [
      "Выполнение перед функцией\n",
      "This is my function\n",
      "После execution\n",
      "(55, 120)\n"
     ]
    }
   ],
   "source": [
    "def decorator_function(original_fn):\n",
    "    def wrapper(*args, **kwargs):\n",
    "        # Действия до вызова исходной функции\n",
    "        print(\"Выполнение перед функцией\")\n",
    "        \n",
    "        result = original_fn(*args, **kwargs)\n",
    "\n",
    "        # Дейтсвия после вызова исходной функции  \n",
    "        print(\"После execution\")\n",
    "        return result\n",
    "    return wrapper\n",
    "\n",
    "@decorator_function\n",
    "def my_function(a, b):\n",
    "    print(\"This is my function\")\n",
    "    return (a * 5, b * 10)\n",
    "\n",
    "result = my_function(11, 12)\n",
    "print(result)"
   ]
  }
 ],
 "metadata": {
  "kernelspec": {
   "display_name": "Python 3 (ipykernel)",
   "language": "python",
   "name": "python3"
  },
  "language_info": {
   "codemirror_mode": {
    "name": "ipython",
    "version": 3
   },
   "file_extension": ".py",
   "mimetype": "text/x-python",
   "name": "python",
   "nbconvert_exporter": "python",
   "pygments_lexer": "ipython3",
   "version": "3.12.4"
  }
 },
 "nbformat": 4,
 "nbformat_minor": 5
}
